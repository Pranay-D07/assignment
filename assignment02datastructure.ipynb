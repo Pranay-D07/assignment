{
  "nbformat": 4,
  "nbformat_minor": 0,
  "metadata": {
    "colab": {
      "provenance": []
    },
    "kernelspec": {
      "name": "python3",
      "display_name": "Python 3"
    },
    "language_info": {
      "name": "python"
    }
  },
  "cells": [
    {
      "cell_type": "markdown",
      "source": [
        "#**Q1.**Discuss string slicing and provide example.\n",
        "\n",
        "##**String slicing** in python allows you to extract a portion of a string by specifying a start and end index.\n",
        "\n",
        "##**Syntax of string slicing:**\n",
        "\n",
        "# string[start:stop:step]\n",
        "\n",
        "##example 1: **Basic slicing**\n"
      ],
      "metadata": {
        "id": "klqbrMULBqWT"
      }
    },
    {
      "cell_type": "code",
      "source": [
        "text = \"Hello, World!\"\n",
        "slice_text = text[0:5]\n",
        "print(slice_text)\n"
      ],
      "metadata": {
        "colab": {
          "base_uri": "https://localhost:8080/"
        },
        "id": "NeM2UpZ_dgXF",
        "outputId": "f8dfc913-25a3-4cca-ca59-2a35042eb28e"
      },
      "execution_count": 4,
      "outputs": [
        {
          "output_type": "stream",
          "name": "stdout",
          "text": [
            "Hello\n"
          ]
        }
      ]
    },
    {
      "cell_type": "markdown",
      "source": [
        "##Example 2: **Omitting the start and stop Values**"
      ],
      "metadata": {
        "id": "PMb22ADBdjKi"
      }
    },
    {
      "cell_type": "code",
      "source": [
        "text = \"Hello, World!\"\n",
        "\n",
        "# Slice from the beginning to index 5\n",
        "print(text[:5])  # Output: Hello\n",
        "\n",
        "# Slice from index 7 to the end\n",
        "print(text[7:])  # Output: World!\n"
      ],
      "metadata": {
        "colab": {
          "base_uri": "https://localhost:8080/"
        },
        "id": "irBlRsDaexHl",
        "outputId": "5483703c-25c8-4183-db9c-519bf89d6b91"
      },
      "execution_count": 5,
      "outputs": [
        {
          "output_type": "stream",
          "name": "stdout",
          "text": [
            "Hello\n",
            "World!\n"
          ]
        }
      ]
    },
    {
      "cell_type": "markdown",
      "source": [
        "##Example 3: **Using Negative Indices**"
      ],
      "metadata": {
        "id": "1rzXCp8ie-RJ"
      }
    },
    {
      "cell_type": "code",
      "source": [
        "text = \"Hello, World!\"\n",
        "\n",
        "# Slice using negative indices\n",
        "slice_text = text[-6:-1]\n",
        "print(slice_text)\n"
      ],
      "metadata": {
        "colab": {
          "base_uri": "https://localhost:8080/"
        },
        "id": "LleV1kWmfFUN",
        "outputId": "c4bf802d-ee8d-4d3a-c84c-21769b512f23"
      },
      "execution_count": 6,
      "outputs": [
        {
          "output_type": "stream",
          "name": "stdout",
          "text": [
            "World\n"
          ]
        }
      ]
    },
    {
      "cell_type": "markdown",
      "source": [
        "##Example 4: **Using the step Parameter**"
      ],
      "metadata": {
        "id": "SrqBMEYifLZj"
      }
    },
    {
      "cell_type": "code",
      "source": [
        "text = \"Hello, World!\"\n",
        "\n",
        "# Slice every second character\n",
        "slice_text = text[0:10:2]\n",
        "print(slice_text)\n"
      ],
      "metadata": {
        "colab": {
          "base_uri": "https://localhost:8080/"
        },
        "id": "Q913sNIffR_P",
        "outputId": "411e3352-a448-4b82-fb64-02a84836aa78"
      },
      "execution_count": 7,
      "outputs": [
        {
          "output_type": "stream",
          "name": "stdout",
          "text": [
            "Hlo o\n"
          ]
        }
      ]
    },
    {
      "cell_type": "markdown",
      "source": [
        "##Example 5: **Reversing a String**"
      ],
      "metadata": {
        "id": "-WB5K7MpfXJ2"
      }
    },
    {
      "cell_type": "code",
      "source": [
        "text = \"Hello, World!\"\n",
        "\n",
        "# Reverse the entire string\n",
        "reversed_text = text[::-1]\n",
        "print(reversed_text)\n"
      ],
      "metadata": {
        "colab": {
          "base_uri": "https://localhost:8080/"
        },
        "id": "GNrKhENAfah0",
        "outputId": "a051d42e-d0cd-4dec-801c-881c1b7d51e8"
      },
      "execution_count": 8,
      "outputs": [
        {
          "output_type": "stream",
          "name": "stdout",
          "text": [
            "!dlroW ,olleH\n"
          ]
        }
      ]
    },
    {
      "cell_type": "markdown",
      "source": [
        "#**Q2.**Explain the key features of lists in python.\n",
        "\n",
        "#**Key features of lists in Python:**\n",
        "\n",
        "#**Ordered:** Lists maintain the order of elements as they are added.\n",
        "#**Mutable:** You can modify, add, or remove elements after the list is created.\n",
        "#**Heterogeneous:** Lists can contain elements of different data types (e.g., integers, strings, floats, even other lists).\n",
        "#**Dynamic**: Lists can grow or shrink in size as needed.\n",
        "#**Indexed Access:** Elements can be accessed using their index, starting from 0 for the first element.\n",
        "#**Slicing:** You can extract a portion of the list using slicing.\n",
        "#**Iterable:** You can iterate over the elements of a list using loops.\n",
        "#**Duplicate Elements:** Lists can contain duplicate elements.\n",
        "#**Nested Lists:** Lists can contain other lists, creating nested structures.\n",
        "#**Built-in Methods:** Python provides many built-in methods for manipulating lists, such as append(), remove(), sort(), and more.\n",
        "\n"
      ],
      "metadata": {
        "id": "q7v6WshffzMf"
      }
    },
    {
      "cell_type": "markdown",
      "source": [
        "#**Q3**.Describe how to access,modify,and delete element in alist with examples.\n",
        "\n",
        "##To **access, modify, and delete** elements in a list\n",
        "#**Accessing elements:** use the index operator ([ ]) to access specific elements based on their position (starting from 0)\n"
      ],
      "metadata": {
        "id": "-0vJpPpah-ZO"
      }
    },
    {
      "cell_type": "code",
      "source": [
        "    fruits = [\"apple\", \"banana\", \"orange\"]\n",
        "\n",
        "    print(fruits[0])  # Output: \"apple\" (accesses the first element)\n",
        "\n",
        "    print(fruits[1])  # Output: \"banana\" (accesses the second element)\n"
      ],
      "metadata": {
        "colab": {
          "base_uri": "https://localhost:8080/"
        },
        "id": "bZBAUSBqm2ko",
        "outputId": "a15abd31-ace0-4135-9dd2-4b350acd2bcc"
      },
      "execution_count": 9,
      "outputs": [
        {
          "output_type": "stream",
          "name": "stdout",
          "text": [
            "apple\n",
            "banana\n"
          ]
        }
      ]
    },
    {
      "cell_type": "markdown",
      "source": [
        "#**Modifying elements:** assign a new value to an element to modify it"
      ],
      "metadata": {
        "id": "Z9Po7xP0m9j0"
      }
    },
    {
      "cell_type": "code",
      "source": [
        "    fruits = [\"apple\", \"banana\", \"orange\"]\n",
        "\n",
        "    fruits[1] = \"mango\"\n",
        "\n",
        "    print(fruits)  # Output: [\"apple\", \"mango\", \"orange\"]\n"
      ],
      "metadata": {
        "colab": {
          "base_uri": "https://localhost:8080/"
        },
        "id": "NbDxBGAynMIK",
        "outputId": "145dfddc-6daa-4471-d191-4948bbf8db25"
      },
      "execution_count": 10,
      "outputs": [
        {
          "output_type": "stream",
          "name": "stdout",
          "text": [
            "['apple', 'mango', 'orange']\n"
          ]
        }
      ]
    },
    {
      "cell_type": "markdown",
      "source": [
        "#**Deleting elements:** use the del keyword to delete an element at a specific index"
      ],
      "metadata": {
        "id": "whvTYIkvnUUa"
      }
    },
    {
      "cell_type": "code",
      "source": [
        "    fruits = [\"apple\", \"banana\", \"orange\"]\n",
        "\n",
        "    del fruits[1]\n",
        "\n",
        "    print(fruits)  # Output: [\"apple\", \"orange\"]\n"
      ],
      "metadata": {
        "id": "4vWDDL1on1z1"
      },
      "execution_count": null,
      "outputs": []
    },
    {
      "cell_type": "markdown",
      "source": [
        "#**Q4.**Compare and contrast tuples and lists with examples.\n",
        "\n",
        "#Both tuples and lists are used to store collections of elements in Python. However, they have key differences in their properties and usage.\n",
        "\n",
        "\n",
        "#**Tuples**\n",
        "##**Immutable:** Once created, the elements of a tuple cannot be changed. This makes them suitable for storing data that should remain constant.\n",
        "##**Slower:** Tuples are generally slower to modify than lists due to their immutability.\n",
        "##**Indexed:** Elements can be accessed using their index.\n",
        "##**Common Use Cases:**\n",
        "*  Storing fixed data, such as days of the week or months of the year\n",
        "*  Representing immutable coordinates or mathematical vectors\n",
        "* Creating lookup tables or dictionaries\n",
        "\n",
        "##Example:"
      ],
      "metadata": {
        "id": "jpQbZGMQpbdP"
      }
    },
    {
      "cell_type": "code",
      "source": [
        "my_tuple = (1, 2, 3, \"hello\")\n",
        "print(my_tuple[0])  # Output: 1"
      ],
      "metadata": {
        "colab": {
          "base_uri": "https://localhost:8080/"
        },
        "id": "-BvLhHh5bSIL",
        "outputId": "aad33117-a748-4cf4-99c3-004f2684177d"
      },
      "execution_count": 1,
      "outputs": [
        {
          "output_type": "stream",
          "name": "stdout",
          "text": [
            "1\n"
          ]
        }
      ]
    },
    {
      "cell_type": "markdown",
      "source": [
        "#**Lists**\n",
        "##**Mutable:** Elements can be added, removed, or modified after creation.\n",
        "##**Faster:** Lists are generally faster to modify than tuples due to their mutability.\n",
        "##**Indexed:** Elements can be accessed using their index.\n",
        "##**Common Use Cases:**\n",
        "\n",
        "*  Storing dynamic data that needs to be modified\n",
        "*  Implementing data structures like stacks, queues, and linked lists\n",
        "*  Creating lists of objects or other data types\n",
        "\n",
        "##Example:\n",
        "\n"
      ],
      "metadata": {
        "id": "pigWvXZ4bfXJ"
      }
    },
    {
      "cell_type": "code",
      "source": [
        "my_list = [1, 2, 3, \"hello\"]\n",
        "my_list.append(4)\n",
        "print(my_list)  # Output: [1, 2, 3, 'hello', 4]"
      ],
      "metadata": {
        "colab": {
          "base_uri": "https://localhost:8080/"
        },
        "id": "xZM2n1nlcZfZ",
        "outputId": "1b640193-3fdd-409f-dc5b-413e308583e7"
      },
      "execution_count": 2,
      "outputs": [
        {
          "output_type": "stream",
          "name": "stdout",
          "text": [
            "[1, 2, 3, 'hello', 4]\n"
          ]
        }
      ]
    },
    {
      "cell_type": "markdown",
      "source": [
        "#**Q5.**Describe the key features of sets and provide examples of their use.\n",
        "\n",
        "#**Key Features of Sets:**\n",
        "#**Unordered:** The elements in a set do not have a specific order.\n",
        "#**Unique:** Duplicate elements are automatically removed.\n",
        "#**Mutable:** Elements can be added or removed after creation.\n",
        "#**Iterable:** Elements can be accessed using loops or other iteration methods.\n",
        "#**Support Set Operations:**Sets support various mathematical operations like union, intersection, difference, and symmetric difference.\n",
        "\n",
        "##**Examples of Set Usage:**\n",
        "#1.Membership testing:"
      ],
      "metadata": {
        "id": "SHGPgNDncl1d"
      }
    },
    {
      "cell_type": "code",
      "source": [
        "my_set = {1, 2, 3, 4}\n",
        "if 3 in my_set:\n",
        "    print(\"3 is in the set\")"
      ],
      "metadata": {
        "colab": {
          "base_uri": "https://localhost:8080/"
        },
        "id": "fhnUkFOResdf",
        "outputId": "9a8610c5-d485-4954-d420-8dabc64b7d01"
      },
      "execution_count": 3,
      "outputs": [
        {
          "output_type": "stream",
          "name": "stdout",
          "text": [
            "3 is in the set\n"
          ]
        }
      ]
    },
    {
      "cell_type": "markdown",
      "source": [
        "#2.Removing Duplicates:"
      ],
      "metadata": {
        "id": "FO314PX_e03q"
      }
    },
    {
      "cell_type": "code",
      "source": [
        "my_list = [1, 2, 3, 2, 4, 1]\n",
        "unique_elements = set(my_list)\n",
        "print(unique_elements)"
      ],
      "metadata": {
        "colab": {
          "base_uri": "https://localhost:8080/"
        },
        "id": "OZMS7xxUe5QS",
        "outputId": "49b93081-6922-42cc-e1b5-b721b740271f"
      },
      "execution_count": 5,
      "outputs": [
        {
          "output_type": "stream",
          "name": "stdout",
          "text": [
            "{1, 2, 3, 4}\n"
          ]
        }
      ]
    },
    {
      "cell_type": "markdown",
      "source": [
        "#3.Set Operations:"
      ],
      "metadata": {
        "id": "0lFS_hxfe7vO"
      }
    },
    {
      "cell_type": "code",
      "source": [
        "set1 = {1, 2, 3}\n",
        "set2 = {2, 3, 4}\n",
        "\n",
        "# Union: Elements in either set or both\n",
        "union_set = set1 | set2\n",
        "print(union_set)\n",
        "\n",
        "# Intersection: Elements in both sets\n",
        "intersection_set = set1 & set2\n",
        "print(intersection_set)\n",
        "\n",
        "# Difference: Elements in set1 but not in set2\n",
        "difference_set = set1 - set2\n",
        "print(difference_set)\n",
        "\n",
        "# Symmetric difference: Elements in either set but not both\n",
        "symmetric_difference_set = set1 ^ set2\n",
        "print(symmetric_difference_set)"
      ],
      "metadata": {
        "colab": {
          "base_uri": "https://localhost:8080/"
        },
        "id": "ERsbmcg7fE5G",
        "outputId": "8c100595-8fde-48c7-dd1d-b3b02a7edee3"
      },
      "execution_count": 7,
      "outputs": [
        {
          "output_type": "stream",
          "name": "stdout",
          "text": [
            "{1, 2, 3, 4}\n",
            "{2, 3}\n",
            "{1}\n",
            "{1, 4}\n"
          ]
        }
      ]
    },
    {
      "cell_type": "markdown",
      "source": [
        "#4.Checking Subsets and Supersets:"
      ],
      "metadata": {
        "id": "OSSRI-yZfGZM"
      }
    },
    {
      "cell_type": "code",
      "source": [
        "set1 = {1, 2, 3}\n",
        "set2 = {1, 2}\n",
        "\n",
        "if set2 <= set1:\n",
        "    print(\"set2 is a subset of set1\")\n",
        "if set1 >= set2:\n",
        "    print(\"set1 is a superset of set2\")"
      ],
      "metadata": {
        "colab": {
          "base_uri": "https://localhost:8080/"
        },
        "id": "GTES6LGefhSP",
        "outputId": "1c951477-28b9-4bf1-92f6-2b82a2a44c9d"
      },
      "execution_count": 8,
      "outputs": [
        {
          "output_type": "stream",
          "name": "stdout",
          "text": [
            "set2 is a subset of set1\n",
            "set1 is a superset of set2\n"
          ]
        }
      ]
    },
    {
      "cell_type": "markdown",
      "source": [
        "#**Q6.**Discuss the use cases of tuples and sets in python programming.\n",
        "\n",
        "#**Use Cases of Tuples in Python**\n",
        "\n",
        "##**Representing immutable data:** Tuples can be used to represent fixed data structures like coordinates, dates, or times.\n",
        "##**Creating lookup tables:** Tuples can be used as keys in dictionaries for efficient lookups.\n",
        "##**Returning multiple values from functions:** Functions can return multiple values as a tuple.\n",
        "##**Unpacking values:** Tuples can be used to unpack values into individual variables."
      ],
      "metadata": {
        "id": "F4Da-hEMfwAL"
      }
    },
    {
      "cell_type": "code",
      "source": [
        "# Representing coordinates\n",
        "point = (3, 4)\n",
        "\n",
        "# Creating a lookup table\n",
        "student_grades = {(\"Alice\", \"Math\"): 95, (\"Bob\", \"Science\"): 88}\n",
        "\n",
        "# Returning multiple values\n",
        "def get_name_and_age():\n",
        "    return \"Alice\", 30\n",
        "\n",
        "name, age = get_name_and_age()"
      ],
      "metadata": {
        "id": "yZuDVhoVkHat"
      },
      "execution_count": 9,
      "outputs": []
    },
    {
      "cell_type": "markdown",
      "source": [
        "#**Use cases of Sets in Python**\n",
        "##**Removing duplicates:** Sets can be used to efficiently remove duplicates from a list or sequence.\n",
        "##**Membership testing:** Checking if an element exists in a set is faster than in a list.\n",
        "##**Set operations:**Performing operations like union, intersection, difference, and symmetric difference on sets.\n",
        "##**Data analysis:** Sets can be used for data analysis tasks like finding common elements or unique values."
      ],
      "metadata": {
        "id": "CHNK7VIFkbGS"
      }
    },
    {
      "cell_type": "code",
      "source": [
        "# Removing duplicates\n",
        "numbers = [1, 2, 3, 2, 4, 1]\n",
        "unique_numbers = set(numbers)\n",
        "\n",
        "# Membership testing\n",
        "if 3 in unique_numbers:\n",
        "    print(\"3 is in the set\")\n",
        "\n",
        "# Set operations\n",
        "set1 = {1, 2, 3}\n",
        "set2 = {2, 3, 4}\n",
        "union_set = set1 | set2\n",
        "intersection_set = set1 & set2"
      ],
      "metadata": {
        "colab": {
          "base_uri": "https://localhost:8080/"
        },
        "id": "bzVf1wkKlDLy",
        "outputId": "946fe7bb-9109-4561-86ae-e67ae1c74307"
      },
      "execution_count": 9,
      "outputs": [
        {
          "output_type": "stream",
          "name": "stdout",
          "text": [
            "3 is in the set\n"
          ]
        }
      ]
    },
    {
      "cell_type": "markdown",
      "source": [
        "#**Q7.** Describe how to add, modify and delete items in a dictionary with examples.\n",
        "\n",
        "##Dictionaries in Python are mutable data structures, meaning you can add, modify, and delete items after they've been created.\n",
        "\n",
        "#**Adding Items**\n",
        "\n"
      ],
      "metadata": {
        "id": "BokwytgplQn7"
      }
    },
    {
      "cell_type": "code",
      "source": [
        "# Create an empty dictionary\n",
        "my_dict = {}\n",
        "\n",
        "# Add new key-value pairs\n",
        "my_dict['name'] = 'John'\n",
        "my_dict['age'] = 30\n",
        "my_dict['city'] = 'New York'\n",
        "\n",
        "print(my_dict)\n"
      ],
      "metadata": {
        "colab": {
          "base_uri": "https://localhost:8080/"
        },
        "id": "XLt8IbiejiQz",
        "outputId": "f3bcb240-dd55-4e15-8914-13d3da118bbf"
      },
      "execution_count": 1,
      "outputs": [
        {
          "output_type": "stream",
          "name": "stdout",
          "text": [
            "{'name': 'John', 'age': 30, 'city': 'New York'}\n"
          ]
        }
      ]
    },
    {
      "cell_type": "markdown",
      "source": [
        "#**Modifying Items**"
      ],
      "metadata": {
        "id": "C4D-w-srj0fB"
      }
    },
    {
      "cell_type": "code",
      "source": [
        "# Existing dictionary\n",
        "my_dict = {'name': 'John', 'age': 30, 'city': 'New York'}\n",
        "\n",
        "# Modify an existing value\n",
        "my_dict['age'] = 31  # Changing age from 30 to 31\n",
        "\n",
        "print(my_dict)\n"
      ],
      "metadata": {
        "colab": {
          "base_uri": "https://localhost:8080/"
        },
        "id": "hFFYrvapk0Gk",
        "outputId": "dbc9f033-adde-4f89-d42a-bb981caac32c"
      },
      "execution_count": 3,
      "outputs": [
        {
          "output_type": "stream",
          "name": "stdout",
          "text": [
            "{'name': 'John', 'age': 31, 'city': 'New York'}\n"
          ]
        }
      ]
    },
    {
      "cell_type": "markdown",
      "source": [
        "#**Deleting Items**\n",
        "\n",
        "##**a.**Using **del** Keyword"
      ],
      "metadata": {
        "id": "KO0UzC55kYni"
      }
    },
    {
      "cell_type": "code",
      "source": [
        "# Dictionary before deletion\n",
        "my_dict = {'name': 'John', 'age': 30, 'city': 'New York'}\n",
        "\n",
        "# Delete a key-value pair\n",
        "del my_dict['city']\n",
        "\n",
        "print(my_dict)\n"
      ],
      "metadata": {
        "colab": {
          "base_uri": "https://localhost:8080/"
        },
        "id": "weLOHPZdk8Kz",
        "outputId": "a72936ab-8978-4057-c717-f4343a773301"
      },
      "execution_count": 4,
      "outputs": [
        {
          "output_type": "stream",
          "name": "stdout",
          "text": [
            "{'name': 'John', 'age': 30}\n"
          ]
        }
      ]
    },
    {
      "cell_type": "markdown",
      "source": [
        "#**b.** Using **pop()** Method"
      ],
      "metadata": {
        "id": "Uvq6OBsLlVMg"
      }
    },
    {
      "cell_type": "code",
      "source": [
        "# Using pop() to remove an item\n",
        "age = my_dict.pop('age')\n",
        "print(age)        # Output: 30\n",
        "print(my_dict)    # Output: {'name': 'John'}\n"
      ],
      "metadata": {
        "id": "jf4Vhr5kq1Y1"
      },
      "execution_count": null,
      "outputs": []
    },
    {
      "cell_type": "markdown",
      "source": [
        "#**Q8.**Discuss the importance of dictionary keys being immutable and provide examples.\n",
        "\n",
        "#**The Importance of Immutable Dictionary Keys**\n",
        "##dictionary keys must be immutable objects. This means that they cannot be changed after they are created. This requirement is fundamental for the efficient operation of dictionaries.\n",
        "\n",
        "#**Why must dictionary keys be immutable?**\n",
        "#**1.Hashing:** Dictionaries use hashing to store and retrieve key-value pairs efficiently. The hash value of a key is used to determine its location within the dictionary. If keys could be changed, their hash values would also change, making it impossible to find the corresponding value.\n",
        "#**2.Consistency:** Immutable keys ensure that the dictionary remains consistent. If keys could be changed, it would be difficult to guarantee that the same key would always refer to the same value.\n",
        "#**3.Efficiency:** Immutable objects can be compared efficiently using the is operator, which checks for object identity rather than equality. This is crucial for dictionary operations like searching and updating.\n",
        "\n",
        "##**Examples of immutable objects suitable for dictionary keys**\n",
        "#**Numbers:**Integers, floats, and complex numbers are immutable.\n",
        "#**Strings:** Strings are also immutable.\n",
        "#**Tuples:** Tuples are immutable sequences of elements.\n",
        "\n",
        "##**Examples of mutable objects that cannot be used as dictionary keys:**\n",
        "\n",
        "#**Lists:** Lists are mutable, so they cannot be used as keys.\n",
        "#**Dictionaries:** Dictionaries are mutable, so they cannot be used as keys.\n",
        "#**Sets:** Sets are mutable, so they cannot be used as keys.\n",
        "\n",
        "\n",
        "##**Example demonstrating the importance of immutable keys:**"
      ],
      "metadata": {
        "id": "pmucOkTSmrZw"
      }
    },
    {
      "cell_type": "code",
      "source": [
        "my_dict = {1: 'apple', 'banana': 2}\n",
        "\n",
        "# This will raise a TypeError because lists are mutable\n",
        "# my_dict[[1, 2]] = 'pear'\n",
        "\n",
        "# This is valid because tuples are immutable\n",
        "my_dict[(1, 2)] = 'pear'"
      ],
      "metadata": {
        "id": "psD1dW15ql6I"
      },
      "execution_count": 11,
      "outputs": []
    }
  ]
}