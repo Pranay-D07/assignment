{
  "nbformat": 4,
  "nbformat_minor": 0,
  "metadata": {
    "colab": {
      "provenance": []
    },
    "kernelspec": {
      "name": "python3",
      "display_name": "Python 3"
    },
    "language_info": {
      "name": "python"
    }
  },
  "cells": [
    {
      "cell_type": "markdown",
      "source": [
        "#**Q1.**What are the five key concepts of objects-oriented programming (OOP).\n",
        "\n",
        "##The five key concepts of object-oriented programming (OOP) are:\n",
        "\n",
        "#**1.Class:** A blueprint or template for creating objects. It defines the properties (attributes) and behaviors (methods) that objects of that class will have.\n",
        "#**2.Object:** An instance of a class. It represents a real-world entity with specific attributes and behaviors.\n",
        "#**3.Encapsulation:** The process of bundling data (attributes) and methods that operate on that data within a single unit (class). This helps in data hiding and protects the internal state of an object.\n",
        "#**4.Inheritance:** The mechanism by which one class inherits the properties and methods of another class. It promotes code reusability and creates hierarchical relationships between classes.\n",
        "#**5.Polymorphism:** The ability of objects to take on many forms. It allows objects of different classes to be treated as if they were objects of a common superclass. Polymorphism enables flexibility and code extensibility.\n",
        "\n",
        "\n",
        "\n"
      ],
      "metadata": {
        "id": "_y3KS8Kl8mDA"
      }
    },
    {
      "cell_type": "markdown",
      "source": [
        "#**Q2.**Write a python class for a `car` with attributes for `make`,`model`, and `year`. include a method to display the car's information."
      ],
      "metadata": {
        "id": "qYdsJnpNr-t4"
      }
    },
    {
      "cell_type": "code",
      "source": [
        "class Car:\n",
        "  def __init__(self, make, model, year):\n",
        "    self.make = make\n",
        "    self.model = model\n",
        "    self.year = year\n",
        "\n",
        "  def display_info(self):\n",
        "    print(f\"Make: {self.make}\")\n",
        "    print(f\"Model: {self.model}\")\n",
        "    print(f\"Year: {self.year}\")\n",
        "\n",
        "# Create a car object\n",
        "my_car = Car(\"Toyota\", \"Camry\", 2023)\n",
        "\n",
        "# Display the car's information\n",
        "my_car.display_info()"
      ],
      "metadata": {
        "colab": {
          "base_uri": "https://localhost:8080/"
        },
        "id": "aEF1PWfJtHpW",
        "outputId": "2e600bbd-4b1b-4425-85e3-70dc8be493d2"
      },
      "execution_count": 2,
      "outputs": [
        {
          "output_type": "stream",
          "name": "stdout",
          "text": [
            "Make: Toyota\n",
            "Model: Camry\n",
            "Year: 2023\n"
          ]
        }
      ]
    },
    {
      "cell_type": "markdown",
      "source": [
        "#**Q3.**Explain the difference between instance methods and class methods. provide with example of each.\n",
        "\n",
        "#**Instance Methods:**\n",
        "#**Definition:** Bound to specific instances of a class.\n",
        "#**Access:** Called on objects of the class.\n",
        "#**Purpose:** Operate on the instance's data and modify the object's state."
      ],
      "metadata": {
        "id": "m_0LUo9QtJd3"
      }
    },
    {
      "cell_type": "code",
      "source": [
        "class Car:\n",
        "    def __init__(self, make, model, year):\n",
        "        self.make = make\n",
        "        self.model = model\n",
        "        self.year = year\n",
        "\n",
        "    @classmethod\n",
        "    def from_string(cls, car_string):\n",
        "        make, model, year = car_string.split(',')\n",
        "        return cls(make, model, year)"
      ],
      "metadata": {
        "id": "BSB0HCN3uh6D"
      },
      "execution_count": 1,
      "outputs": []
    },
    {
      "cell_type": "markdown",
      "source": [
        "#**Class Methods:**\n",
        "\n",
        "#**Definition:** Bound to the class itself, not to specific instances.\n",
        "#**Access:**Called on the class directly.\n",
        "#**Purpose**: Operate on class-level data or perform actions related to the class as a whole. Often used for creating class-level methods like factory methods or utility functions."
      ],
      "metadata": {
        "id": "NkLXqSawup1u"
      }
    },
    {
      "cell_type": "code",
      "source": [
        "class Car:\n",
        "    def __init__(self, make, model, year):\n",
        "        self.make = make\n",
        "        self.model = model\n",
        "        self.year = year\n",
        "\n",
        "    @classmethod\n",
        "    def from_string(cls, car_string):\n",
        "        make, model, year = car_string.split(',')\n",
        "        return cls(make, model, year)"
      ],
      "metadata": {
        "id": "sf10oGrxvLCL"
      },
      "execution_count": null,
      "outputs": []
    },
    {
      "cell_type": "markdown",
      "source": [
        "#**Q4.**How does python implement method overloading? give an example.\n",
        "\n",
        "##Python does not directly support method overloading in the traditional sense like languages like C++ or Java. However, it provides mechanisms to achieve similar functionality:\n",
        "\n",
        "#**1. Default Arguments:**\n",
        "#By defining default values for parameters, you can create functions that behave differently based on the number of arguments provided.\n",
        "#This is a common technique to simulate method overloading."
      ],
      "metadata": {
        "id": "GwK_mllQvMd0"
      }
    },
    {
      "cell_type": "code",
      "source": [
        "def greet(name, greeting=\"Hello\"):\n",
        "    print(greeting, name)\n",
        "\n",
        "greet(\"Alice\")\n",
        "greet(\"Bob\", \"Hi\")"
      ],
      "metadata": {
        "colab": {
          "base_uri": "https://localhost:8080/"
        },
        "id": "T2yCD0TAxAWw",
        "outputId": "7650adcb-c55c-4b78-f1dd-246c516fc4e6"
      },
      "execution_count": 3,
      "outputs": [
        {
          "output_type": "stream",
          "name": "stdout",
          "text": [
            "Hello Alice\n",
            "Hi Bob\n"
          ]
        }
      ]
    },
    {
      "cell_type": "markdown",
      "source": [
        "#**2. Variable-Length Arguments:**\n",
        "\n",
        "#Using `*args` and `**kwargs`, you can create functions that accept a variable number of positional or keyword arguments, respectively.\n",
        "#This allows for flexibility in function calls and can be used to implement overloading-like behavior."
      ],
      "metadata": {
        "id": "zpE1QyhzxF1m"
      }
    },
    {
      "cell_type": "code",
      "source": [
        "def calculate_sum(*args):\n",
        "    total = 0\n",
        "    for num in args:\n",
        "        total += num\n",
        "    return total\n",
        "\n",
        "print(calculate_sum(1, 2, 3))\n",
        "print(calculate_sum(10, 20))"
      ],
      "metadata": {
        "colab": {
          "base_uri": "https://localhost:8080/"
        },
        "id": "hzwsxDo1xvkO",
        "outputId": "fec58664-f6a8-4204-a664-4ffda2e3ced6"
      },
      "execution_count": 4,
      "outputs": [
        {
          "output_type": "stream",
          "name": "stdout",
          "text": [
            "6\n",
            "30\n"
          ]
        }
      ]
    },
    {
      "cell_type": "markdown",
      "source": [
        "#**3. Method Overriding:**\n",
        "#This is a core OOP concept where a subclass can provide a specific implementation of a method inherited from a parent class.\n",
        "#While not strictly method overloading, it allows for polymorphic behavior where different objects can respond differently to the same method call."
      ],
      "metadata": {
        "id": "IKQMyAh0xzn7"
      }
    },
    {
      "cell_type": "code",
      "source": [
        "class Animal:\n",
        "    def make_sound(self):\n",
        "        print(\"Generic animal sound\")\n",
        "\n",
        "class Dog(Animal):\n",
        "    def make_sound(self):\n",
        "        print(\"Woof!\")\n",
        "\n",
        "class Cat(Animal):\n",
        "    def make_sound(self):\n",
        "        print(\"Meow!\")\n",
        "\n",
        "dog = Dog()\n",
        "cat = Cat()\n",
        "dog.make_sound()\n",
        "cat.make_sound()"
      ],
      "metadata": {
        "colab": {
          "base_uri": "https://localhost:8080/"
        },
        "id": "iPvyXHnMyLQv",
        "outputId": "b1d08cbf-f7fd-4966-c27f-83b807e6b0b0"
      },
      "execution_count": 5,
      "outputs": [
        {
          "output_type": "stream",
          "name": "stdout",
          "text": [
            "Woof!\n",
            "Meow!\n"
          ]
        }
      ]
    },
    {
      "cell_type": "markdown",
      "source": [
        "#**Q5.**What are the three types of access modifiers in python? how are they denoted?\n",
        "\n",
        "##Python uses three main types of access modifiers to define the visibility of class attributes and methods:\n",
        "\n",
        "#**1.Public:**By default, all attributes and methods in a Python class are public. They can be accessed from anywhere, both within and outside the class.\n",
        "#**2.Protected:** Attributes and methods prefixed with a single underscore (_) are considered protected. They can be accessed within the class and its subclasses.\n",
        "#**3.Private:** Attributes and methods prefixed with a double underscore (__) are considered private. They can only be accessed within the class itself.\n",
        ""
      ],
      "metadata": {
        "id": "9NupwTYVyPkj"
      }
    },
    {
      "cell_type": "code",
      "source": [
        "class MyClass:\n",
        "    def __init__(self, public_var, _protected_var, __private_var):\n",
        "        self.public_var = public_var\n",
        "        self._protected_var = _protected_var\n",
        "        self.__private_var = __private_var\n",
        "\n",
        "    def public_method(self):\n",
        "        print(self.public_var)\n",
        "        print(self._protected_var)\n",
        "        print(self.__private_var)\n",
        "\n",
        "    def _protected_method(self):\n",
        "        print(\"This is a protected method\")\n",
        "\n",
        "    def __private_method(self):\n",
        "        print(\"This is a private method\")"
      ],
      "metadata": {
        "id": "IKWHXC1z0cgT"
      },
      "execution_count": null,
      "outputs": []
    },
    {
      "cell_type": "markdown",
      "source": [
        "#**Q6.**Describe the five types of inheritance in python. provide a simple example of multiple inheritance.\n",
        "\n",
        "#**1. Single Inheritance**\n",
        "#A single class (child) inherits from a single parent class.\n",
        "\n",
        "\n"
      ],
      "metadata": {
        "id": "6xHfuzlo0iH5"
      }
    },
    {
      "cell_type": "code",
      "source": [
        "class Animal:\n",
        "    def speak(self):\n",
        "        return \"Some sound\"\n",
        "\n",
        "class Dog(Animal):\n",
        "    pass\n",
        "\n",
        "dog = Dog()\n",
        "print(dog.speak())"
      ],
      "metadata": {
        "colab": {
          "base_uri": "https://localhost:8080/"
        },
        "id": "OF8oaGL72T0p",
        "outputId": "5fa084bb-8998-4f66-a467-2c02709ed0ec"
      },
      "execution_count": 10,
      "outputs": [
        {
          "output_type": "stream",
          "name": "stdout",
          "text": [
            "Some sound\n"
          ]
        }
      ]
    },
    {
      "cell_type": "markdown",
      "source": [
        "#**2. Multiple Inheritance**\n",
        "#A class inherits from more than one parent class. Python resolves method conflicts using the Method Resolution Order (MRO).\n"
      ],
      "metadata": {
        "id": "w5kuFkP92aLD"
      }
    },
    {
      "cell_type": "code",
      "source": [
        "class Engine:\n",
        "    def start_engine(self):\n",
        "        return \"Engine started\"\n",
        "\n",
        "class MusicSystem:\n",
        "    def play_music(self):\n",
        "        return \"Playing music\"\n",
        "\n",
        "class Car(Engine, MusicSystem):\n",
        "    pass\n",
        "\n",
        "my_car = Car()\n",
        "print(my_car.start_engine())\n",
        "print(my_car.play_music())\n"
      ],
      "metadata": {
        "colab": {
          "base_uri": "https://localhost:8080/"
        },
        "id": "1t0nij_m2rB4",
        "outputId": "55553e1d-ca08-4959-bbce-66108654bbaf"
      },
      "execution_count": 9,
      "outputs": [
        {
          "output_type": "stream",
          "name": "stdout",
          "text": [
            "Engine started\n",
            "Playing music\n"
          ]
        }
      ]
    },
    {
      "cell_type": "markdown",
      "source": [
        "#**3. Multilevel Inheritance**\n",
        "#A class inherits from a parent class, and then another class inherits from that derived class, forming a chain."
      ],
      "metadata": {
        "id": "Iv2keaJF20nh"
      }
    },
    {
      "cell_type": "code",
      "source": [
        "class Animal:\n",
        "    def speak(self):\n",
        "        return \"Some sound\"\n",
        "\n",
        "class Dog(Animal):\n",
        "    def bark(self):\n",
        "        return \"Bark\"\n",
        "\n",
        "class Puppy(Dog):\n",
        "    def play(self):\n",
        "        return \"Playing\"\n",
        "\n",
        "puppy = Puppy()\n",
        "print(puppy.speak())\n",
        "print(puppy.bark())\n",
        "print(puppy.play())"
      ],
      "metadata": {
        "colab": {
          "base_uri": "https://localhost:8080/"
        },
        "id": "ryjZTC4328Ve",
        "outputId": "85cd5752-d8f1-48f0-868c-f0c3d1c22bc8"
      },
      "execution_count": 8,
      "outputs": [
        {
          "output_type": "stream",
          "name": "stdout",
          "text": [
            "Some sound\n",
            "Bark\n",
            "Playing\n"
          ]
        }
      ]
    },
    {
      "cell_type": "markdown",
      "source": [
        "#**4. Hierarchical Inheritance**\n",
        "#Multiple classes inherit from the same parent class.\n"
      ],
      "metadata": {
        "id": "7hHXZ9Wz3Gap"
      }
    },
    {
      "cell_type": "code",
      "source": [
        "class Animal:\n",
        "    def speak(self):\n",
        "        return \"Some sound\"\n",
        "\n",
        "class Dog(Animal):\n",
        "    def bark(self):\n",
        "        return \"Bark\"\n",
        "\n",
        "class Cat(Animal):\n",
        "    def meow(self):\n",
        "        return \"Meow\"\n",
        "\n",
        "dog = Dog()\n",
        "cat = Cat()\n",
        "print(dog.speak())\n",
        "print(dog.bark())\n",
        "print(cat.speak())\n",
        "print(cat.meow())"
      ],
      "metadata": {
        "colab": {
          "base_uri": "https://localhost:8080/"
        },
        "id": "FU_lBKJF3h-6",
        "outputId": "8478c9a8-7162-4db1-9dd3-14429ede00c7"
      },
      "execution_count": 7,
      "outputs": [
        {
          "output_type": "stream",
          "name": "stdout",
          "text": [
            "Some sound\n",
            "Bark\n",
            "Some sound\n",
            "Meow\n"
          ]
        }
      ]
    },
    {
      "cell_type": "markdown",
      "source": [
        "#**5. Hybrid Inheritance**\n",
        "#A mix of two or more types of inheritance, commonly a combination of multiple and hierarchical inheritance.\n",
        "##Example: A combination of hierarchical and multiple inheritance, creating a complex structure."
      ],
      "metadata": {
        "id": "HbkC_Ivs4E5g"
      }
    },
    {
      "cell_type": "code",
      "source": [
        "class A:\n",
        "    def display(self):\n",
        "        return \"Class A display\"\n",
        "\n",
        "class B:\n",
        "    def display(self):\n",
        "        return \"Class B display\"\n",
        "\n",
        "class C(A, B):\n",
        "    pass\n",
        "\n",
        "c = C()\n",
        "print(c.display())\n"
      ],
      "metadata": {
        "colab": {
          "base_uri": "https://localhost:8080/"
        },
        "id": "rtXvMo4E4ORB",
        "outputId": "ddf0ace4-de4c-4563-9c74-463a08b4016c"
      },
      "execution_count": 11,
      "outputs": [
        {
          "output_type": "stream",
          "name": "stdout",
          "text": [
            "Class A display\n"
          ]
        }
      ]
    },
    {
      "cell_type": "markdown",
      "source": [
        "#**Q7.**What is the method resolution order (MRO) in python? how can you retrive it programmatically?\n",
        "\n",
        "##The **Method Resolution Order (MRO)** in Python is the order in which Python looks for a method or attribute in a hierarchy of classes, especially in cases involving multiple inheritance. MRO defines the sequence Python follows to search for methods and attributes. This order is crucial for resolving method conflicts in classes that inherit from multiple parent classes.\n",
        "\n",
        "##**Retrieving MRO Programmatically**\n",
        "#You can retrieve the MRO of a class using either of the following:\n",
        "\n",
        "#1.Using the`__mro__` attribute:"
      ],
      "metadata": {
        "id": "OVIZ5MBc4qvn"
      }
    },
    {
      "cell_type": "code",
      "source": [
        "class A:\n",
        "    pass\n",
        "\n",
        "class B(A):\n",
        "    pass\n",
        "\n",
        "class C(B):\n",
        "    pass\n",
        "\n",
        "print(C.__mro__)\n"
      ],
      "metadata": {
        "colab": {
          "base_uri": "https://localhost:8080/"
        },
        "id": "ccYHGwl_6qbZ",
        "outputId": "f7fbe971-1e0e-4d6e-f4f4-01f879fee603"
      },
      "execution_count": 12,
      "outputs": [
        {
          "output_type": "stream",
          "name": "stdout",
          "text": [
            "(<class '__main__.C'>, <class '__main__.B'>, <class '__main__.A'>, <class 'object'>)\n"
          ]
        }
      ]
    },
    {
      "cell_type": "markdown",
      "source": [
        "#2.Using the `mro()` method:"
      ],
      "metadata": {
        "id": "v3esthCL6x5S"
      }
    },
    {
      "cell_type": "code",
      "source": [
        "print(C.mro())\n"
      ],
      "metadata": {
        "colab": {
          "base_uri": "https://localhost:8080/"
        },
        "id": "xy95Tdur6_Nk",
        "outputId": "e88c96f7-a1ad-4332-e19e-c9ec30df3dc8"
      },
      "execution_count": 13,
      "outputs": [
        {
          "output_type": "stream",
          "name": "stdout",
          "text": [
            "[<class '__main__.C'>, <class '__main__.B'>, <class '__main__.A'>, <class 'object'>]\n"
          ]
        }
      ]
    },
    {
      "cell_type": "markdown",
      "source": [
        "#**Q8.**Create an abstract base class `shape` with an abstract method `area()`.then create two subclasses `circle` and `rectangle` that implement the `area()` method."
      ],
      "metadata": {
        "id": "d-vsaDV97SLJ"
      }
    },
    {
      "cell_type": "code",
      "source": [
        "from abc import ABC, abstractmethod\n",
        "\n",
        "class Shape(ABC):\n",
        "    @abstractmethod\n",
        "    def area(self):\n",
        "        pass\n",
        "\n",
        "class Circle(Shape):\n",
        "    def __init__(self, radius):\n",
        "        self.radius = radius\n",
        "\n",
        "    def area(self):\n",
        "        return 3.14159 * self.radius * self.radius\n",
        "\n",
        "class Rectangle(Shape):\n",
        "    def __init__(self, length, width):\n",
        "        self.length = length\n",
        "        self.width = width\n",
        "\n",
        "    def area(self):\n",
        "        return self.length * self.width\n",
        "\n",
        "# Example usage:\n",
        "circle = Circle(5)\n",
        "rectangle = Rectangle(4, 6)\n",
        "\n",
        "print(circle.area())\n",
        "print(rectangle.area())"
      ],
      "metadata": {
        "colab": {
          "base_uri": "https://localhost:8080/"
        },
        "id": "I9sMm7Vn81p7",
        "outputId": "68e103b3-532a-4bb5-8554-97f858a74c52"
      },
      "execution_count": 14,
      "outputs": [
        {
          "output_type": "stream",
          "name": "stdout",
          "text": [
            "78.53975\n",
            "24\n"
          ]
        }
      ]
    },
    {
      "cell_type": "markdown",
      "source": [
        "##Explanation:\n",
        "\n",
        "#**1.Abstract Base Class `Shape`**:\n",
        "\n",
        "#Inherits from `ABC` (Abstract Base Class) to define an abstract interface.\n",
        "#Declares the `area()` method as abstract, meaning it must be implemented by subclasses.\n",
        "#**2.Concrete Classes `Circle` and `Rectangle`**:\n",
        "#Inherit from the `Shape` class.\n",
        "#Implement the `area()` method according to their specific shape calculations.\n",
        "#**3.Using the Classes:**\n",
        "\n",
        "#Create instances of `Circle` and `Rectangle`.\n",
        "#Call the `area()` method on each instance to calculate the respective area."
      ],
      "metadata": {
        "id": "g_gE3nNa86rF"
      }
    },
    {
      "cell_type": "markdown",
      "source": [
        "#Q9.Demonstrate polymorphism by creating a function that can work with different shape objects to calculate and print their areas.\n"
      ],
      "metadata": {
        "id": "T1mOBlPD-aYS"
      }
    },
    {
      "cell_type": "code",
      "source": [
        "from abc import ABC, abstractmethod\n",
        "import math\n",
        "\n",
        "# Abstract base class\n",
        "class Shape(ABC):\n",
        "    @abstractmethod\n",
        "    def area(self):\n",
        "        pass\n",
        "\n",
        "# Circle subclass\n",
        "class Circle(Shape):\n",
        "    def __init__(self, radius):\n",
        "        self.radius = radius\n",
        "\n",
        "    def area(self):\n",
        "        return math.pi * self.radius ** 2\n",
        "\n",
        "# Rectangle subclass\n",
        "class Rectangle(Shape):\n",
        "    def __init__(self, width, height):\n",
        "        self.width = width\n",
        "        self.height = height\n",
        "\n",
        "    def area(self):\n",
        "        return self.width * self.height\n",
        "\n",
        "# Triangle subclass\n",
        "class Triangle(Shape):\n",
        "    def __init__(self, base, height):\n",
        "        self.base = base\n",
        "        self.height = height\n",
        "\n",
        "    def area(self):\n",
        "        return 0.5 * self.base * self.height\n",
        "\n",
        "# Function to demonstrate polymorphism by calculating and printing the area of various shapes\n",
        "def display_area(shape):\n",
        "    print(f\"The area of the shape is: {shape.area()}\")\n",
        "\n",
        "# Example usage\n",
        "shapes = [Circle(5), Rectangle(4, 6), Triangle(3, 7)]\n",
        "\n",
        "for shape in shapes:\n",
        "    display_area(shape)\n"
      ],
      "metadata": {
        "colab": {
          "base_uri": "https://localhost:8080/"
        },
        "id": "KtfYIOIwACAs",
        "outputId": "35443261-c8a4-47c2-d14c-3f9fc120ca30"
      },
      "execution_count": 15,
      "outputs": [
        {
          "output_type": "stream",
          "name": "stdout",
          "text": [
            "The area of the shape is: 78.53981633974483\n",
            "The area of the shape is: 24\n",
            "The area of the shape is: 10.5\n"
          ]
        }
      ]
    },
    {
      "cell_type": "markdown",
      "source": [
        "##**Explanation**\n",
        "#**1.Polymorphic Function (`display_area`)**:\n",
        "#The `display_area` function takes any object that has an `area()` method. It calculates and prints the area for that shape.\n",
        "#**2.Demonstrating Polymorphism**:\n",
        "#The `shapes` list contains instances of `Circle`, `Rectangle`, and `Triangle`.\n",
        "#By iterating through `shapes`, we pass each shape to `display_area`, which calls the `area()` method of each shape object.\n",
        "#This approach demonstrates polymorphism, as `display_area` works with different objects (different shapes) through their shared interface (the `area()` method)."
      ],
      "metadata": {
        "id": "swaJpv39AR_E"
      }
    },
    {
      "cell_type": "markdown",
      "source": [
        "#**Q10.**Implement encapsulation in a `bankaccount` class with private attributes for `balance` and `account_number`. include methods for depsit , withdrawal, and balance inquiry."
      ],
      "metadata": {
        "id": "2wvRExq7BkAZ"
      }
    },
    {
      "cell_type": "code",
      "source": [
        "class BankAccount:\n",
        "    def __init__(self, account_number, initial_balance):\n",
        "        self.__account_number = account_number\n",
        "        self.__balance = initial_balance\n",
        "\n",
        "    def deposit(self, amount):\n",
        "        if amount > 0:\n",
        "            self.__balance += amount\n",
        "            print(f\"Deposited {amount}. New balance: {self.__balance}\")\n",
        "        else:\n",
        "            print(\"Invalid deposit amount.\")\n",
        "\n",
        "    def withdraw(self, amount):\n",
        "        if 0 < amount <= self.__balance:\n",
        "            self.__balance -= amount\n",
        "            print(f\"Withdrew {amount}. New balance: {self.__balance}\")\n",
        "        else:\n",
        "            print(\"Insufficient balance or invalid withdrawal amount.\")\n",
        "\n",
        "    def check_balance(self):\n",
        "        print(f\"Your current balance is: {self.__balance}\")\n",
        "\n",
        "# Create a bank account\n",
        "account = BankAccount(\"12345\", 1000)\n",
        "\n",
        "# Deposit money\n",
        "account.deposit(500)\n",
        "\n",
        "# Withdraw money\n",
        "account.withdraw(200)\n",
        "\n",
        "# Check balance\n",
        "account.check_balance()"
      ],
      "metadata": {
        "colab": {
          "base_uri": "https://localhost:8080/"
        },
        "id": "W57kUbQ1CohS",
        "outputId": "8fb26526-296d-4aeb-d044-0df0449718db"
      },
      "execution_count": 16,
      "outputs": [
        {
          "output_type": "stream",
          "name": "stdout",
          "text": [
            "Deposited 500. New balance: 1500\n",
            "Withdrew 200. New balance: 1300\n",
            "Your current balance is: 1300\n"
          ]
        }
      ]
    },
    {
      "cell_type": "markdown",
      "source": [
        "##Explanation:\n",
        "\n",
        "#**1.Private Attributes:**\n",
        "#`__account_number` and `__balance` are declared as private attributes using double underscores. This prevents direct access from outside the class.\n",
        "#**2.Public Methods:**\n",
        "#`deposit()`: Takes an amount as input and adds it to the balance if the amount is positive.\n",
        "#`withdraw()`: Takes an amount as input and withdraws it from the balance if the amount is valid and there are sufficient funds.\n",
        "#`check_balance()`: Prints the current balance to the console.\n",
        "#**3.Encapsulation:**\n",
        "#The private attributes are hidden from external access, providing data protection.\n",
        "#The public methods provide a controlled interface for interacting with the account's state, ensuring data integrity."
      ],
      "metadata": {
        "id": "Bak6nszHCxjD"
      }
    },
    {
      "cell_type": "markdown",
      "source": [
        "#**Q11**.Write a class that overrides the `__str__` and `__add__` magic methods. what will these method allow you to do?\n",
        "\n"
      ],
      "metadata": {
        "id": "yeteMZGTeIiU"
      }
    },
    {
      "cell_type": "code",
      "source": [
        "class Person:\n",
        "    def __init__(self, name, age):\n",
        "        self.name = name\n",
        "        self.age = age\n",
        "\n",
        "    def __str__(self):\n",
        "        return f\"Person: {self.name}, Age: {self.age}\"\n",
        "\n",
        "    def __add__(self, other):\n",
        "        return self.age + other.age\n",
        "\n",
        "person1 = Person(\"Alice\", 25)\n",
        "person2 = Person(\"Bob\", 30)\n",
        "\n",
        "print(person1)\n",
        "print(person1 + person2)"
      ],
      "metadata": {
        "id": "S4nmALfUiild"
      },
      "execution_count": null,
      "outputs": []
    },
    {
      "cell_type": "markdown",
      "source": [
        "#Explanation:\n",
        "\n",
        "#`__str__` method:\n",
        "\n",
        "##Overriding this method allows you to customize the string representation of an object when it's printed or converted to a string.\n",
        "##In the example above, when we print person1, the __str__ method is called, and the formatted string is displayed.\n",
        "#`__add__` method:\n",
        "\n",
        "##Overriding this method allows you to define custom behavior for the addition operator (+) when applied to objects of this class.\n",
        "#In this case, we've defined it to add the ages of two Person objects."
      ],
      "metadata": {
        "id": "DAC82lASimTm"
      }
    },
    {
      "cell_type": "markdown",
      "source": [
        "#**Q12.**Create a decorator that measures and prints the execution time of a function."
      ],
      "metadata": {
        "id": "gkVqzdypk6lw"
      }
    },
    {
      "cell_type": "code",
      "source": [
        "import time\n",
        "\n",
        "def execution_time(func):\n",
        "    \"\"\"Decorator that measures and prints the execution time of a function.\"\"\"\n",
        "    def wrapper(*args, **kwargs):\n",
        "        start_time = time.time()  # Record start time\n",
        "        result = func(*args, **kwargs)\n",
        "        end_time = time.time()    # Record end time\n",
        "        elapsed_time = end_time - start_time\n",
        "        print(f\"Execution time of '{func.__name__}': {elapsed_time:.4f} seconds\")\n",
        "        return result\n",
        "    return wrapper\n",
        "\n",
        "# Example usage of the decorator\n",
        "@execution_time\n",
        "def sample_function(n):\n",
        "    \"\"\"Function that simulates a time-consuming operation.\"\"\"\n",
        "    total = 0\n",
        "    for i in range(n):\n",
        "        total += i ** 2\n",
        "    return total\n",
        "\n",
        "# Calling the decorated function\n",
        "sample_function(100000)\n"
      ],
      "metadata": {
        "colab": {
          "base_uri": "https://localhost:8080/"
        },
        "id": "5nvrgC5BnVNw",
        "outputId": "03224ade-a30c-4c5b-dfbb-c23e6fc69e57"
      },
      "execution_count": 1,
      "outputs": [
        {
          "output_type": "stream",
          "name": "stdout",
          "text": [
            "Execution time of 'sample_function': 0.0603 seconds\n"
          ]
        },
        {
          "output_type": "execute_result",
          "data": {
            "text/plain": [
              "333328333350000"
            ]
          },
          "metadata": {},
          "execution_count": 1
        }
      ]
    },
    {
      "cell_type": "markdown",
      "source": [
        "##Explanation\n",
        "#1.Decorator Function (`execution_time`):\n",
        "\n",
        "#`execution_time` is a decorator that takes a function `func` as its argument.\n",
        "#The decorator defines a wrapper function that:\n",
        "##-Records the start time using `time.time()`.\n",
        "##-Calls the original function (`func`) and stores the result.\n",
        "##-Records the end time after the function completes.\n",
        "##-Calculates the elapsed time by subtracting the start time from the end time.\n",
        "##-Prints the execution time of the function.\n",
        "#2.Using the Decorator:\n",
        "\n",
        "##The decorator is applied to `sample_function` with the `@execution_time` syntax.\n",
        "#When `sample_function` is called, the decorator wraps it, measuring and printing the execution time before returning the result."
      ],
      "metadata": {
        "id": "cnoNNMrhnedA"
      }
    },
    {
      "cell_type": "markdown",
      "source": [
        "#**Q13.**Explain the concept of the diamond problem in multiple inheritance. how does python resolve it?\n",
        "\n",
        "\n",
        "#**The Diamond Problem**\n",
        "\n",
        "##The diamond problem occurs in multiple inheritance when a class inherits from two parent classes that share a common ancestor. This can lead to ambiguity if both parent classes define a method with the same name."
      ],
      "metadata": {
        "id": "rC7ZAvF1pgOU"
      }
    },
    {
      "cell_type": "code",
      "source": [
        "class A:\n",
        "    def method(self):\n",
        "        print(\"Method from A\")\n",
        "\n",
        "class B(A):\n",
        "    pass\n",
        "\n",
        "class C(A):\n",
        "    pass\n",
        "\n",
        "class D(B, C):\n",
        "    pass\n",
        "\n",
        "d = D()\n",
        "d.method()"
      ],
      "metadata": {
        "id": "hhP2s7RLq1UX"
      },
      "execution_count": null,
      "outputs": []
    },
    {
      "cell_type": "markdown",
      "source": [
        "##In this example, D inherits from both B and C, which both inherit from A. When we call d.method(), it's unclear which implementation of method should be used: the one from B or the one from C.\n",
        "\n",
        "#**Python's Solution: Method Resolution Order (MRO**)\n",
        "\n",
        "#Python uses a linearization algorithm called C3 linearization to determine the order in which methods are searched. This ensures that the MRO is consistent and avoids ambiguity.\n",
        "\n",
        "#The C3 linearization algorithm guarantees that:\n",
        "\n",
        "#1.Child classes come before parent classes: The child class appears before its parents in the MRO.\n",
        "#2.Linearization is depth-first: If a class inherits from multiple parents, the linearization is done depth-first, prioritizing the leftmost parent.\n",
        "#3.Parent classes are listed in the order of inheritance: The order of parent classes in the inheritance list is preserved in the MRO.\n",
        "\n",
        "##By using C3 linearization, Python effectively addresses the diamond problem and ensures that method calls are resolved in a predictable and consistent manner."
      ],
      "metadata": {
        "id": "F0v0_oJerI0B"
      }
    },
    {
      "cell_type": "markdown",
      "source": [
        "#**Q14.**Write a class method that keeps track of the number of instances created from a class."
      ],
      "metadata": {
        "id": "W9Iu2tZlr8vT"
      }
    },
    {
      "cell_type": "code",
      "source": [
        "class MyClass:\n",
        "    count = 0\n",
        "\n",
        "    def __init__(self):\n",
        "        MyClass.count += 1\n",
        "\n",
        "    @classmethod\n",
        "    def get_instance_count(cls):\n",
        "        return cls.count\n",
        "\n",
        "# Create multiple instances\n",
        "obj1 = MyClass()\n",
        "obj2 = MyClass()\n",
        "obj3 = MyClass()\n",
        "\n",
        "print(\"Number of instances:\", MyClass.get_instance_count())"
      ],
      "metadata": {
        "colab": {
          "base_uri": "https://localhost:8080/"
        },
        "id": "QOdZuqx7srTu",
        "outputId": "56b265bc-6914-4632-9d3c-10d568f91596"
      },
      "execution_count": 2,
      "outputs": [
        {
          "output_type": "stream",
          "name": "stdout",
          "text": [
            "Number of instances: 3\n"
          ]
        }
      ]
    },
    {
      "cell_type": "markdown",
      "source": [
        "##Explanation:\n",
        "\n",
        "#1.Class Variable:\n",
        "\n",
        "##`count` is a class variable, shared by all instances of the `MyClass`.\n",
        "##It's initialized to 0 to keep track of the total number of instances.\n",
        "#2.Constructor:\n",
        "\n",
        "##The `__init__` method increments the count variable each time a new instance is created.\n",
        "#3.Class Method:\n",
        "\n",
        "##`get_instance_count` is a class method, accessible directly from the class itself.\n",
        "#It returns the current value of the `count` variable."
      ],
      "metadata": {
        "id": "RblTvX3jsuvu"
      }
    },
    {
      "cell_type": "markdown",
      "source": [
        "#**Q15.**Implement a static method in a class that checks if a given year is a leap year."
      ],
      "metadata": {
        "id": "_5LEfPHZt6OL"
      }
    },
    {
      "cell_type": "code",
      "source": [
        "class YearChecker:\n",
        "    @staticmethod\n",
        "    def is_leap_year(year):\n",
        "        if (year % 4 == 0 and year % 100 != 0) or (year % 400 == 0):\n",
        "            return True\n",
        "        else:\n",
        "            return False\n",
        "\n",
        "# Example usage:\n",
        "year = 2024\n",
        "if YearChecker.is_leap_year(year):\n",
        "    print(year, \"is a leap year\")\n",
        "else:\n",
        "    print(year, \"is not a leap year\")"
      ],
      "metadata": {
        "colab": {
          "base_uri": "https://localhost:8080/"
        },
        "id": "wvT9hc6MvII2",
        "outputId": "45cc37b7-c507-4e79-9715-c268131fed4e"
      },
      "execution_count": 3,
      "outputs": [
        {
          "output_type": "stream",
          "name": "stdout",
          "text": [
            "2024 is a leap year\n"
          ]
        }
      ]
    },
    {
      "cell_type": "markdown",
      "source": [
        "##Explanation:\n",
        "\n",
        "#1.Static Method:\n",
        "\n",
        "##`is_leap_year` is a static method, defined using the `@staticmethod` decorator.\n",
        "##Static methods are bound to the class itself, not to instances of the class.\n",
        "##They can be called directly on the class name without creating an instance.\n",
        "#2.Leap Year Logic:\n",
        "\n",
        "##The method checks the divisibility rules for leap years:\n",
        "##If the year is divisible by 4 but not by 100, it's a leap year.\n",
        "##If the year is divisible by 400, it's also a leap year.\n",
        "#3.Return Value:\n",
        "\n",
        "##The method returns `True` if the year is a leap year, `False` otherwise."
      ],
      "metadata": {
        "id": "GK5djRv9vLQT"
      }
    }
  ]
}