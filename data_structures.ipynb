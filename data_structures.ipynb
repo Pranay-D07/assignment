{
  "nbformat": 4,
  "nbformat_minor": 0,
  "metadata": {
    "colab": {
      "provenance": []
    },
    "kernelspec": {
      "name": "python3",
      "display_name": "Python 3"
    },
    "language_info": {
      "name": "python"
    }
  },
  "cells": [
    {
      "cell_type": "markdown",
      "source": [
        "#Q1.Write a code to reverse a string.\n"
      ],
      "metadata": {
        "id": "KI_h-HGdS-g-"
      }
    },
    {
      "cell_type": "code",
      "source": [
        "def reverse_string(string):\n",
        "\n",
        "    return string[::-1]\n",
        "\n",
        "# Example usage:\n",
        "string = \"hello world\"\n",
        "reversed_string = reverse_string(string)\n",
        "print(reversed_string)"
      ],
      "metadata": {
        "colab": {
          "base_uri": "https://localhost:8080/"
        },
        "id": "ZOrtF7F3TfUn",
        "outputId": "a6b0c9fc-f4d0-455c-eda9-844582fce971"
      },
      "execution_count": null,
      "outputs": [
        {
          "output_type": "stream",
          "name": "stdout",
          "text": [
            "dlrow olleh\n"
          ]
        }
      ]
    },
    {
      "cell_type": "markdown",
      "source": [
        "#Q2.Write a code to count the number of vowels in string."
      ],
      "metadata": {
        "id": "tEQIDgdyTmht"
      }
    },
    {
      "cell_type": "code",
      "source": [
        "def count_vowels(string):\n",
        "\n",
        "\n",
        "    vowels = \"aeiouAEIOU\"\n",
        "    count = 0\n",
        "    for char in string:\n",
        "        if char in vowels:\n",
        "            count += 1\n",
        "    return count\n",
        "\n",
        "# Example usage:\n",
        "string = \"Hello, World!\"\n",
        "vowel_count = count_vowels(string)\n",
        "print(\"Number of vowels:\", vowel_count)"
      ],
      "metadata": {
        "colab": {
          "base_uri": "https://localhost:8080/"
        },
        "id": "FxBlGDIpUcqs",
        "outputId": "52abf47b-c7dd-4f18-d3b0-8d47295e5853"
      },
      "execution_count": null,
      "outputs": [
        {
          "output_type": "stream",
          "name": "stdout",
          "text": [
            "Number of vowels: 3\n"
          ]
        }
      ]
    },
    {
      "cell_type": "markdown",
      "source": [
        "#Q3.Write a code to check if a given string is a palindrome or not."
      ],
      "metadata": {
        "id": "xkH5TESgUe-s"
      }
    },
    {
      "cell_type": "code",
      "source": [
        "def is_palindrome(string):\n",
        "\n",
        "    return string == string[::-1]\n",
        "\n",
        "# Example usage:\n",
        "string = \"racecar\"\n",
        "if is_palindrome(string):\n",
        "    print(string, \"is a palindrome\")\n",
        "else:\n",
        "    print(string, \"is not a palindrome\")"
      ],
      "metadata": {
        "colab": {
          "base_uri": "https://localhost:8080/"
        },
        "id": "mvFduJF_U8SH",
        "outputId": "584abdab-6489-42b8-ea73-339999b5fa4d"
      },
      "execution_count": null,
      "outputs": [
        {
          "output_type": "stream",
          "name": "stdout",
          "text": [
            "racecar is a palindrome\n"
          ]
        }
      ]
    },
    {
      "cell_type": "markdown",
      "source": [
        "#Q4.Write a code to check if two given strings are anagrams of each other."
      ],
      "metadata": {
        "id": "2UBY4GQOVTND"
      }
    },
    {
      "cell_type": "code",
      "source": [
        "def are_anagrams(str1, str2):\n",
        "\n",
        "    if len(str1) != len(str2):\n",
        "        return False\n",
        "\n",
        "    char_count = {}\n",
        "    for char in str1:\n",
        "        char_count[char] = char_count.get(char, 0) + 1\n",
        "\n",
        "    for char in str2:\n",
        "        if char not in char_count or char_count[char] == 0:\n",
        "            return False\n",
        "        char_count[char] -= 1\n",
        "\n",
        "    return True\n",
        "\n",
        "# Example usage:\n",
        "str1 = \"listen\"\n",
        "str2 = \"silent\"\n",
        "\n",
        "if are_anagrams(str1, str2):\n",
        "    print(str1, \"and\", str2, \"are anagrams\")\n",
        "else:\n",
        "    print(str1, \"and\", str2, \"are not anagrams\")"
      ],
      "metadata": {
        "colab": {
          "base_uri": "https://localhost:8080/"
        },
        "id": "MRHfUgWuVpPa",
        "outputId": "815e6908-9dc9-420d-8444-8a1222d4b8ef"
      },
      "execution_count": null,
      "outputs": [
        {
          "output_type": "stream",
          "name": "stdout",
          "text": [
            "listen and silent are anagrams\n"
          ]
        }
      ]
    },
    {
      "cell_type": "markdown",
      "source": [
        "#Q5.Write a code to find all occurrences of a given substring within another strings."
      ],
      "metadata": {
        "id": "pNSAaAqmWASt"
      }
    },
    {
      "cell_type": "code",
      "source": [
        "def find_substring_occurrences(string, substring):\n",
        "\n",
        "\n",
        "    indices = []\n",
        "    index = 0\n",
        "    while index < len(string):\n",
        "        index = string.find(substring, index)\n",
        "        if index == -1:\n",
        "            break\n",
        "        indices.append(index)\n",
        "        index += 1\n",
        "    return indices\n",
        "\n",
        "# Example usage:\n",
        "string = \"hello world hello\"\n",
        "substring = \"hello\"\n",
        "occurrences = find_substring_occurrences(string, substring)\n",
        "print(occurrences)"
      ],
      "metadata": {
        "colab": {
          "base_uri": "https://localhost:8080/"
        },
        "id": "fjUid7Y5WYZ0",
        "outputId": "5a7ba9fc-2137-4df8-82f8-0071686c7f80"
      },
      "execution_count": null,
      "outputs": [
        {
          "output_type": "stream",
          "name": "stdout",
          "text": [
            "[0, 12]\n"
          ]
        }
      ]
    },
    {
      "cell_type": "markdown",
      "source": [
        "#Q6.Write a code to perform basic string compression using the counts of repeated characters."
      ],
      "metadata": {
        "id": "2dC9tbMQWg2p"
      }
    },
    {
      "cell_type": "code",
      "source": [
        "def compress_string(string):\n",
        "\n",
        "    compressed_string = \"\"\n",
        "    count = 1\n",
        "    for i in range(1, len(string)):\n",
        "        if string[i] == string[i - 1]:\n",
        "            count += 1\n",
        "        else:\n",
        "            compressed_string += string[i - 1] + str(count)\n",
        "            count = 1\n",
        "    compressed_string += string[-1] + str(count)\n",
        "    return compressed_string\n",
        "\n",
        "# Example usage:\n",
        "string = \"aaabbbccde\"\n",
        "compressed_string = compress_string(string)\n",
        "print(compressed_string)"
      ],
      "metadata": {
        "colab": {
          "base_uri": "https://localhost:8080/"
        },
        "id": "rSLym2UcXEBT",
        "outputId": "8b969c51-9d4e-4b28-c639-c0059a0961de"
      },
      "execution_count": null,
      "outputs": [
        {
          "output_type": "stream",
          "name": "stdout",
          "text": [
            "a3b3c2d1e1\n"
          ]
        }
      ]
    },
    {
      "cell_type": "markdown",
      "source": [
        "#Q7.Write a code to determine if a string has all unique characters."
      ],
      "metadata": {
        "id": "aJrlFGRRXPNO"
      }
    },
    {
      "cell_type": "code",
      "source": [
        "def has_unique_chars(string):\n",
        "\n",
        "\n",
        "    char_set = set()\n",
        "    for char in string:\n",
        "        if char in char_set:\n",
        "            return False\n",
        "        char_set.add(char)\n",
        "    return True\n",
        "\n",
        "# Example usage:\n",
        "string1 = \"hello\"\n",
        "string2 = \"abcde\"\n",
        "\n",
        "print(has_unique_chars(string1))\n",
        "print(has_unique_chars(string2))"
      ],
      "metadata": {
        "colab": {
          "base_uri": "https://localhost:8080/"
        },
        "id": "0jix9mvtXhzR",
        "outputId": "1b8e8f4b-7315-4aee-dd9b-5047837221ac"
      },
      "execution_count": null,
      "outputs": [
        {
          "output_type": "stream",
          "name": "stdout",
          "text": [
            "False\n",
            "True\n"
          ]
        }
      ]
    },
    {
      "cell_type": "markdown",
      "source": [
        "#Q8.Write a code to convert a given string to uppercase or lowercase."
      ],
      "metadata": {
        "id": "a9rGG0upYV3W"
      }
    },
    {
      "cell_type": "code",
      "source": [
        "def convert_case(string, case):\n",
        "\n",
        "    if case == 'upper':\n",
        "        return string.upper()\n",
        "    elif case == 'lower':\n",
        "        return string.lower()\n",
        "    else:\n",
        "        return \"Invalid case\"\n",
        "\n",
        "# Example usage:\n",
        "string = \"HeLlO, WoRlD!\"\n",
        "uppercase_string = convert_case(string, 'upper')\n",
        "lowercase_string = convert_case(string, 'lower')\n",
        "\n",
        "print(uppercase_string)\n",
        "print(lowercase_string)"
      ],
      "metadata": {
        "colab": {
          "base_uri": "https://localhost:8080/"
        },
        "id": "in2uJh1qYxmZ",
        "outputId": "02e90de2-f508-4940-b1b5-ed4564a94ef2"
      },
      "execution_count": null,
      "outputs": [
        {
          "output_type": "stream",
          "name": "stdout",
          "text": [
            "HELLO, WORLD!\n",
            "hello, world!\n"
          ]
        }
      ]
    },
    {
      "cell_type": "markdown",
      "source": [
        "#Q9.Write a code to count the number of words in a string."
      ],
      "metadata": {
        "id": "MO4IhNQxZEr1"
      }
    },
    {
      "cell_type": "code",
      "source": [
        "def count_words(string):\n",
        "\n",
        "\n",
        "    words = string.split()\n",
        "    return len(words)\n",
        "\n",
        "# Example usage:\n",
        "string = \"This is a sample string with eight words\"\n",
        "word_count = count_words(string)\n",
        "print(\"Number of words:\", word_count)"
      ],
      "metadata": {
        "colab": {
          "base_uri": "https://localhost:8080/"
        },
        "id": "qMqD5PflZZBm",
        "outputId": "1e501875-a8df-4b6b-9918-fa0188c16421"
      },
      "execution_count": null,
      "outputs": [
        {
          "output_type": "stream",
          "name": "stdout",
          "text": [
            "Number of words: 8\n"
          ]
        }
      ]
    },
    {
      "cell_type": "markdown",
      "source": [
        "#Q10.Write a code to concatenate two strings without using the + operator."
      ],
      "metadata": {
        "id": "VPB3FGuua7iW"
      }
    },
    {
      "cell_type": "code",
      "source": [
        "def concatenate_strings(str1, str2):\n",
        "    return \"{}{}\".format(str1, str2)\n",
        "\n",
        "# Example usage\n",
        "string1 = \"Hello\"\n",
        "string2 = \"World\"\n",
        "result = concatenate_strings(string1, string2)\n",
        "print(\"Concatenated String:\", result)\n"
      ],
      "metadata": {
        "colab": {
          "base_uri": "https://localhost:8080/"
        },
        "id": "mjbbPjHCbVTP",
        "outputId": "01e412c0-fb76-41eb-85b6-c95384c0570e"
      },
      "execution_count": null,
      "outputs": [
        {
          "output_type": "stream",
          "name": "stdout",
          "text": [
            "Concatenated String: HelloWorld\n"
          ]
        }
      ]
    },
    {
      "cell_type": "markdown",
      "source": [
        "#Q11.Write a code to remove all occurrences of a specific element from a list."
      ],
      "metadata": {
        "id": "z8INc1vAbuv3"
      }
    },
    {
      "cell_type": "code",
      "source": [
        "def remove_all_occurrences(lst, element):\n",
        "    return [item for item in lst if item != element]\n",
        "\n",
        "# Example usage\n",
        "original_list = [1, 2, 3, 4, 2, 5, 2, 6]\n",
        "element_to_remove = 2\n",
        "result = remove_all_occurrences(original_list, element_to_remove)\n",
        "print(\"Original List:\", original_list)\n",
        "print(\"Updated List:\", result)\n"
      ],
      "metadata": {
        "colab": {
          "base_uri": "https://localhost:8080/"
        },
        "id": "5rBin2ArcUAJ",
        "outputId": "135759e4-26cb-4969-c3df-665c0c5f5c47"
      },
      "execution_count": null,
      "outputs": [
        {
          "output_type": "stream",
          "name": "stdout",
          "text": [
            "Original List: [1, 2, 3, 4, 2, 5, 2, 6]\n",
            "Updated List: [1, 3, 4, 5, 6]\n"
          ]
        }
      ]
    },
    {
      "cell_type": "markdown",
      "source": [
        "#Q12.Implement a code to find the second largest number in a given list of integers."
      ],
      "metadata": {
        "id": "nODwDlifco2y"
      }
    },
    {
      "cell_type": "code",
      "source": [
        "def find_second_largest(numbers):\n",
        "\n",
        "  if len(numbers) < 2:\n",
        "    return None\n",
        "\n",
        "  largest = second_largest = float('-infinity')\n",
        "  for num in numbers:\n",
        "    if num > largest:\n",
        "      second_largest = largest\n",
        "      largest = num\n",
        "    elif num > second_largest and num != largest:\n",
        "      second_largest = num\n",
        "\n",
        "  return second_largest\n",
        "\n",
        "# Example usage:\n",
        "numbers = [12, 35, 1, 10, 34, 1]\n",
        "second_largest_number = find_second_largest(numbers)\n",
        "print(second_largest_number)"
      ],
      "metadata": {
        "colab": {
          "base_uri": "https://localhost:8080/"
        },
        "id": "dRW4rspndUJt",
        "outputId": "cee48d17-9c29-4a23-b3ab-30398c402025"
      },
      "execution_count": null,
      "outputs": [
        {
          "output_type": "stream",
          "name": "stdout",
          "text": [
            "34\n"
          ]
        }
      ]
    },
    {
      "cell_type": "markdown",
      "source": [
        "#Q13.Create a code to count the occurrences of each element in a list and return a dictionary with elements as keys and their counts as values."
      ],
      "metadata": {
        "id": "Kza_1QXLd4Wh"
      }
    },
    {
      "cell_type": "code",
      "source": [
        "def count_occurrences(lst):\n",
        "\n",
        "  count_dict = {}\n",
        "  for element in lst:\n",
        "    count_dict[element] = count_dict.get(element, 0) + 1\n",
        "  return count_dict\n",
        "\n",
        "# Example usage:\n",
        "my_list = [1, 2, 3, 2, 1, 4, 5, 1]\n",
        "result = count_occurrences(my_list)\n",
        "print(result)"
      ],
      "metadata": {
        "colab": {
          "base_uri": "https://localhost:8080/"
        },
        "id": "Pr5ZRcRTeogJ",
        "outputId": "f3c03b6b-38fa-4f87-d2c1-6704c348dc40"
      },
      "execution_count": null,
      "outputs": [
        {
          "output_type": "stream",
          "name": "stdout",
          "text": [
            "{1: 3, 2: 2, 3: 1, 4: 1, 5: 1}\n"
          ]
        }
      ]
    },
    {
      "cell_type": "markdown",
      "source": [
        "#Q14.Write a code to reverse a list in-place without using any built-in reverse functions."
      ],
      "metadata": {
        "id": "0JtUURpbfBEv"
      }
    },
    {
      "cell_type": "code",
      "source": [
        "def reverse_list_in_place(lst):\n",
        "\n",
        "  left, right = 0, len(lst) - 1\n",
        "  while left < right:\n",
        "    lst[left], lst[right] = lst[right], lst[left]\n",
        "    left += 1\n",
        "    right -= 1\n",
        "\n",
        "# Example usage:\n",
        "my_list = [1, 2, 3, 4, 5]\n",
        "reverse_list_in_place(my_list)\n",
        "print(my_list)"
      ],
      "metadata": {
        "colab": {
          "base_uri": "https://localhost:8080/"
        },
        "id": "NCfpwPp7fztc",
        "outputId": "5ae0394c-6865-4478-c46c-27990b9a3ed0"
      },
      "execution_count": null,
      "outputs": [
        {
          "output_type": "stream",
          "name": "stdout",
          "text": [
            "[5, 4, 3, 2, 1]\n"
          ]
        }
      ]
    },
    {
      "cell_type": "markdown",
      "source": [
        "#Q15.Implement a code to find and remove duplicates from a list while preserving the original order of elements."
      ],
      "metadata": {
        "id": "gb8wxc0-gANK"
      }
    },
    {
      "cell_type": "code",
      "source": [
        "def remove_duplicates_preserve_order(lst):\n",
        "    seen = set()\n",
        "    result = []\n",
        "    for item in lst:\n",
        "        if item not in seen:\n",
        "            result.append(item)\n",
        "            seen.add(item)\n",
        "    return result\n",
        "\n",
        "# Example usage\n",
        "example_list = [1, 2, 2, 3, 4, 3, 5, 1, 6]\n",
        "unique_list = remove_duplicates_preserve_order(example_list)\n",
        "print(\"Original List:\", example_list)\n",
        "print(\"List Without Duplicates:\", unique_list)\n"
      ],
      "metadata": {
        "colab": {
          "base_uri": "https://localhost:8080/"
        },
        "id": "N-54_UuDgvaq",
        "outputId": "dba76283-7812-4f7a-9383-e9af405ca352"
      },
      "execution_count": null,
      "outputs": [
        {
          "output_type": "stream",
          "name": "stdout",
          "text": [
            "Original List: [1, 2, 2, 3, 4, 3, 5, 1, 6]\n",
            "List Without Duplicates: [1, 2, 3, 4, 5, 6]\n"
          ]
        }
      ]
    },
    {
      "cell_type": "markdown",
      "source": [
        "#Q16.Create a code to check if a given list is sorted (either in ascending or descending order) or not."
      ],
      "metadata": {
        "id": "Gu_KyCMjhaTJ"
      }
    },
    {
      "cell_type": "code",
      "source": [
        "def is_sorted(lst):\n",
        "\n",
        "  ascending = descending = True\n",
        "  for i in range(1, len(lst)):\n",
        "    if lst[i] < lst[i - 1]:\n",
        "      ascending = False\n",
        "    if lst[i] > lst[i - 1]:\n",
        "      descending = False\n",
        "\n",
        "  return ascending or descending\n",
        "\n",
        "# Example usage:\n",
        "list1 = [1, 2, 3, 4, 5]\n",
        "list2 = [5, 4, 3, 2, 1]\n",
        "list3 = [1, 3, 2, 4]\n",
        "\n",
        "print(is_sorted(list1))\n",
        "print(is_sorted(list2))\n",
        "print(is_sorted(list3))"
      ],
      "metadata": {
        "colab": {
          "base_uri": "https://localhost:8080/"
        },
        "id": "HxuOqsc-h2ax",
        "outputId": "149953f2-3e09-47ac-8afa-c7a7bfdc2f5b"
      },
      "execution_count": null,
      "outputs": [
        {
          "output_type": "stream",
          "name": "stdout",
          "text": [
            "True\n",
            "True\n",
            "False\n"
          ]
        }
      ]
    },
    {
      "cell_type": "markdown",
      "source": [
        "#Q17.Write a code to merge two sorted lists into a single sorted list."
      ],
      "metadata": {
        "id": "Dbgg1sEjiZY_"
      }
    },
    {
      "cell_type": "code",
      "source": [
        "def merge_sorted_lists(list1, list2):\n",
        "\n",
        "  merged_list = []\n",
        "  i = j = 0\n",
        "  while i < len(list1) and j < len(list2):\n",
        "    if list1[i] < list2[j]:\n",
        "      merged_list.append(list1[i])\n",
        "      i += 1\n",
        "    else:\n",
        "      merged_list.append(list2[j])\n",
        "      j += 1\n",
        "\n",
        "  # Append remaining elements from the lists, if any\n",
        "  merged_list.extend(list1[i:])\n",
        "  merged_list.extend(list2[j:])\n",
        "\n",
        "  return merged_list\n",
        "\n",
        "# Example usage:\n",
        "list1 = [1, 3, 5, 7]\n",
        "list2 = [2, 4, 6, 8]\n",
        "merged_list = merge_sorted_lists(list1, list2)\n",
        "print(merged_list)"
      ],
      "metadata": {
        "colab": {
          "base_uri": "https://localhost:8080/"
        },
        "id": "CQKUZpEVjDpo",
        "outputId": "dc0d9e8a-5886-4e88-af55-c7ec8dbab64e"
      },
      "execution_count": null,
      "outputs": [
        {
          "output_type": "stream",
          "name": "stdout",
          "text": [
            "[1, 2, 3, 4, 5, 6, 7, 8]\n"
          ]
        }
      ]
    },
    {
      "cell_type": "markdown",
      "source": [
        "#Q18.Implement a code to find the intersection of two given lists."
      ],
      "metadata": {
        "id": "Njk6Mlo7jgJ3"
      }
    },
    {
      "cell_type": "code",
      "source": [
        "def intersection(list1, list2):\n",
        "\n",
        "  set1 = set(list1)\n",
        "  set2 = set(list2)\n",
        "  intersection_set = set1.intersection(set2)\n",
        "  return list(intersection_set)\n",
        "\n",
        "# Example usage:\n",
        "list1 = [1, 2, 3, 4, 5]\n",
        "list2 = [3, 4, 5, 6, 7]\n",
        "intersection_list = intersection(list1, list2)\n",
        "print(intersection_list)"
      ],
      "metadata": {
        "colab": {
          "base_uri": "https://localhost:8080/"
        },
        "id": "KkVni8ThkBgd",
        "outputId": "e358a2d4-c158-4e19-859b-3ca9886ed0c1"
      },
      "execution_count": null,
      "outputs": [
        {
          "output_type": "stream",
          "name": "stdout",
          "text": [
            "[3, 4, 5]\n"
          ]
        }
      ]
    },
    {
      "cell_type": "markdown",
      "source": [
        "#Q19.Create a code to find the union of two lists without duplicates."
      ],
      "metadata": {
        "id": "RKdQi_L1kH4E"
      }
    },
    {
      "cell_type": "code",
      "source": [
        "def union(list1, list2):\n",
        "\n",
        "  union_set = set(list1 + list2)\n",
        "  return list(union_set)\n",
        "\n",
        "# Example usage:\n",
        "list1 = [1, 2, 3, 4, 5]\n",
        "list2 = [3, 4, 5, 6, 7]\n",
        "union_list = union(list1, list2)\n",
        "print(union_list)"
      ],
      "metadata": {
        "colab": {
          "base_uri": "https://localhost:8080/"
        },
        "id": "SsIIvcc9kheu",
        "outputId": "263294d7-93ea-48a2-87af-87835235a9d7"
      },
      "execution_count": null,
      "outputs": [
        {
          "output_type": "stream",
          "name": "stdout",
          "text": [
            "[1, 2, 3, 4, 5, 6, 7]\n"
          ]
        }
      ]
    },
    {
      "cell_type": "markdown",
      "source": [
        "#Q20.Write a code to shuffle a given list randomly without using any built-in shuffle functions."
      ],
      "metadata": {
        "id": "rCtos1Uskwxd"
      }
    },
    {
      "cell_type": "code",
      "source": [
        "import random\n",
        "\n",
        "def shuffle_list(lst):\n",
        "    # Traverse the list from the last element to the second element\n",
        "    for i in range(len(lst) - 1, 0, -1):\n",
        "        # Pick a random index from 0 to i\n",
        "        j = random.randint(0, i)\n",
        "        # Swap elements at indices i and j\n",
        "        lst[i], lst[j] = lst[j], lst[i]\n",
        "\n",
        "# Example usage\n",
        "example_list = [1, 2, 3, 4, 5]\n",
        "shuffle_list(example_list)\n",
        "print(\"Shuffled List:\", example_list)\n"
      ],
      "metadata": {
        "colab": {
          "base_uri": "https://localhost:8080/"
        },
        "id": "9XocLpB4lVV4",
        "outputId": "b70aa628-d6b8-42a5-85bb-4f04d0dc4372"
      },
      "execution_count": null,
      "outputs": [
        {
          "output_type": "stream",
          "name": "stdout",
          "text": [
            "Shuffled List: [2, 5, 1, 4, 3]\n"
          ]
        }
      ]
    },
    {
      "cell_type": "markdown",
      "source": [
        "#Q21.Write a code that take two tuples as input as return a new tuple containing elements that are common to both inputs tuples."
      ],
      "metadata": {
        "id": "C-WCcu9HlyYW"
      }
    },
    {
      "cell_type": "code",
      "source": [
        "def find_common_elements(tuple1, tuple2):\n",
        "\n",
        "    set1 = set(tuple1)\n",
        "    set2 = set(tuple2)\n",
        "    common_elements = set1.intersection(set2)\n",
        "    return tuple(common_elements)\n",
        "\n",
        "# Example usage:\n",
        "tuple1 = (1, 2, 3, 4, 5)\n",
        "tuple2 = (3, 4, 5, 6, 7)\n",
        "common_tuple = find_common_elements(tuple1, tuple2)\n",
        "print(common_tuple)"
      ],
      "metadata": {
        "id": "cZnuNMpz8-Li"
      },
      "execution_count": null,
      "outputs": []
    },
    {
      "cell_type": "markdown",
      "source": [
        "#Q22.Create a code that prompts the user to enter two sets of integers separated by commas. then, print the intersection of these two sets."
      ],
      "metadata": {
        "id": "Kou7YkGH9VXV"
      }
    },
    {
      "cell_type": "code",
      "source": [
        "def get_set_from_input(prompt):\n",
        "    # Prompt the user and split the input by commas\n",
        "    return set(map(int, input(prompt).split(',')))\n",
        "\n",
        "# Get input from the user\n",
        "set1 = get_set_from_input(\"Enter the first set of integers (comma-separated): \")\n",
        "set2 = get_set_from_input(\"Enter the second set of integers (comma-separated): \")\n",
        "\n",
        "# Find the intersection of the two sets\n",
        "intersection = set1 & set2\n",
        "\n",
        "# Print the result\n",
        "print(\"Intersection of the two sets:\", intersection)\n"
      ],
      "metadata": {
        "id": "su3VSaDI-2sU",
        "colab": {
          "base_uri": "https://localhost:8080/"
        },
        "outputId": "5ff328f9-253e-4768-b0d4-66bd889097a6"
      },
      "execution_count": null,
      "outputs": [
        {
          "output_type": "stream",
          "name": "stdout",
          "text": [
            "Enter the first set of integers (comma-separated): 1,2,3,4,5\n",
            "Enter the second set of integers (comma-separated): 3,4,5,6,7\n",
            "Intersection of the two sets: {3, 4, 5}\n"
          ]
        }
      ]
    },
    {
      "cell_type": "markdown",
      "source": [
        "#Q23.Write a code to concatenate two tuples. the function should take two tuples as input and return a new tuple containing elements from both input tuples."
      ],
      "metadata": {
        "id": "scJPTPKG_AxI"
      }
    },
    {
      "cell_type": "code",
      "source": [
        "def concatenate_tuples(tuple1, tuple2):\n",
        "\n",
        "  return tuple1 + tuple2\n",
        "\n",
        "# Example usage:\n",
        "tuple1 = (1, 2, 3)\n",
        "tuple2 = (4, 5, 6)\n",
        "result = concatenate_tuples(tuple1, tuple2)\n",
        "print(result)"
      ],
      "metadata": {
        "id": "DEjS0atTAHXw",
        "colab": {
          "base_uri": "https://localhost:8080/"
        },
        "outputId": "bcdbbc61-46ed-4cfb-d1f7-a60eb818bef7"
      },
      "execution_count": null,
      "outputs": [
        {
          "output_type": "stream",
          "name": "stdout",
          "text": [
            "(1, 2, 3, 4, 5, 6)\n"
          ]
        }
      ]
    },
    {
      "cell_type": "markdown",
      "source": [
        "#Q24.Develop a code that prompts the user to input two sets of strings. then, print the elements that are present in the first set but not in the second set."
      ],
      "metadata": {
        "id": "nzwAZGosAQYZ"
      }
    },
    {
      "cell_type": "code",
      "source": [
        "def get_set_from_input(prompt):\n",
        "    # Prompt the user and split the input by commas\n",
        "    return set(input(prompt).split(','))\n",
        "\n",
        "# Get input from the user\n",
        "set1 = get_set_from_input(\"Enter the first set of strings (comma-separated): \")\n",
        "set2 = get_set_from_input(\"Enter the second set of strings (comma-separated): \")\n",
        "\n",
        "# Find the difference (elements in set1 but not in set2)\n",
        "difference = set1 - set2\n",
        "\n",
        "# Print the result\n",
        "print(\"Elements in the first set but not in the second set:\", difference)\n"
      ],
      "metadata": {
        "id": "GcANr0oQBbpI",
        "colab": {
          "base_uri": "https://localhost:8080/"
        },
        "outputId": "f6710b58-70cf-495f-8849-df4d236935c2"
      },
      "execution_count": null,
      "outputs": [
        {
          "output_type": "stream",
          "name": "stdout",
          "text": [
            "Enter the first set of strings (comma-separated): apple,banana,orange\n",
            "Enter the second set of strings (comma-separated): banana,grape\n",
            "Elements in the first set but not in the second set: {'orange', 'apple'}\n"
          ]
        }
      ]
    },
    {
      "cell_type": "markdown",
      "source": [
        "#Q25.Create a code that takes a tuple and two integers as input. the function should return a new tuple containing elements from the original tuple within the specified range of indices."
      ],
      "metadata": {
        "id": "taWUyw5yDs6T"
      }
    },
    {
      "cell_type": "code",
      "source": [
        "def slice_tuple(tuple_input, start_index, end_index):\n",
        "\n",
        "  return tuple_input[start_index:end_index]\n",
        "\n",
        "# Example usage:\n",
        "my_tuple = (1, 2, 3, 4, 5, 6, 7)\n",
        "sliced_tuple = slice_tuple(my_tuple, 2, 5)\n",
        "print(sliced_tuple)"
      ],
      "metadata": {
        "colab": {
          "base_uri": "https://localhost:8080/"
        },
        "id": "ZpzKB0ZeE0GC",
        "outputId": "9cbfe894-77b6-4c85-c2ab-a4af8a3d8510"
      },
      "execution_count": null,
      "outputs": [
        {
          "output_type": "stream",
          "name": "stdout",
          "text": [
            "(3, 4, 5)\n"
          ]
        }
      ]
    },
    {
      "cell_type": "markdown",
      "source": [
        "#Q26.Write a code that prompts the user to input two sets of characters. then print the union of these two sets."
      ],
      "metadata": {
        "id": "WgKawa6zFAi7"
      }
    },
    {
      "cell_type": "code",
      "source": [
        "def get_union_of_sets():\n",
        "  set1_str = input(\"Enter the first set of characters, separated by commas: \")\n",
        "  set2_str = input(\"Enter the second set of characters, separated by commas: \")\n",
        "\n",
        "  set1 = set(set1_str.split(\",\"))\n",
        "  set2 = set(set2_str.split(\",\"))\n",
        "\n",
        "  union_set = set1.union(set2)\n",
        "  print(\"Union of the sets:\", union_set)\n",
        "\n",
        "if __name__ == \"__main__\":\n",
        "  get_union_of_sets()"
      ],
      "metadata": {
        "colab": {
          "base_uri": "https://localhost:8080/"
        },
        "id": "ur_ftx_xHUSh",
        "outputId": "deaf15e7-b46d-4908-fba6-eb8a3c5f20d6"
      },
      "execution_count": null,
      "outputs": [
        {
          "output_type": "stream",
          "name": "stdout",
          "text": [
            "Enter the first set of characters, separated by commas: a,b,c\n",
            "Enter the second set of characters, separated by commas: c,d,e\n",
            "Union of the sets: {'c', 'e', 'b', 'd', 'a'}\n"
          ]
        }
      ]
    },
    {
      "cell_type": "markdown",
      "source": [
        "#Q27.Develop a code that takes a tuple of integers as input. the function should return the maximum and minimum values from the tuple using tuple unpacking."
      ],
      "metadata": {
        "id": "K85NA5wZICRI"
      }
    },
    {
      "cell_type": "code",
      "source": [
        "def find_max_and_min(values):\n",
        "    # Find the maximum and minimum values\n",
        "    max_value = max(values)\n",
        "    min_value = min(values)\n",
        "    # Return them as a tuple\n",
        "    return max_value, min_value\n",
        "\n",
        "# Example usage\n",
        "input_tuple = (10, 20, 5, 40, 25)\n",
        "max_val, min_val = find_max_and_min(input_tuple)  # Tuple unpacking\n",
        "print(\"Input Tuple:\", input_tuple)\n",
        "print(\"Maximum Value:\", max_val)\n",
        "print(\"Minimum Value:\", min_val)"
      ],
      "metadata": {
        "colab": {
          "base_uri": "https://localhost:8080/"
        },
        "id": "99K1NRQyKPv0",
        "outputId": "1a28dd4a-83ec-40b2-fd67-79aee0edbeef"
      },
      "execution_count": null,
      "outputs": [
        {
          "output_type": "stream",
          "name": "stdout",
          "text": [
            "Input Tuple: (10, 20, 5, 40, 25)\n",
            "Maximum Value: 40\n",
            "Minimum Value: 5\n"
          ]
        }
      ]
    },
    {
      "cell_type": "markdown",
      "source": [
        "#Q28.Create a code that defines two sets of integers. then,print the union,intersection, and difference of these two sets."
      ],
      "metadata": {
        "id": "6YO-nXfqKWcV"
      }
    },
    {
      "cell_type": "code",
      "source": [
        "def set_operations(set1, set2):\n",
        "  union_set = set1.union(set2)\n",
        "  intersection_set = set1.intersection(set2)\n",
        "  difference_set = set1.difference(set2)\n",
        "\n",
        "  print(\"Union:\", union_set)\n",
        "  print(\"Intersection:\", intersection_set)\n",
        "  print(\"Difference (set1 - set2):\", difference_set)\n",
        "\n",
        "# Example usage:\n",
        "set1 = {1, 2, 3, 4, 5}\n",
        "set2 = {3, 4, 5, 6, 7}\n",
        "\n",
        "set_operations(set1, set2)"
      ],
      "metadata": {
        "colab": {
          "base_uri": "https://localhost:8080/"
        },
        "id": "c2y5eA7QLAmc",
        "outputId": "285beeb3-5dc2-4f68-bdb2-daeaded84f30"
      },
      "execution_count": null,
      "outputs": [
        {
          "output_type": "stream",
          "name": "stdout",
          "text": [
            "Union: {1, 2, 3, 4, 5, 6, 7}\n",
            "Intersection: {3, 4, 5}\n",
            "Difference (set1 - set2): {1, 2}\n"
          ]
        }
      ]
    },
    {
      "cell_type": "markdown",
      "source": [
        "#Q29.Write a code that takes a tuple and an element as input. the function should return the count of occurrence of the given element in the tuple."
      ],
      "metadata": {
        "id": "SMqi4uVTNoUU"
      }
    },
    {
      "cell_type": "code",
      "source": [
        "def count_occurrences(tuple_input, element):\n",
        "  count = 0\n",
        "  for item in tuple_input:\n",
        "    if item == element:\n",
        "      count += 1\n",
        "  return count\n",
        "\n",
        "# Example usage:\n",
        "my_tuple = (1, 2, 3, 2, 1, 4, 5, 1)\n",
        "element_to_count = 1\n",
        "count = count_occurrences(my_tuple, element_to_count)\n",
        "print(f\"The element {element_to_count} occurs {count} times in the tuple.\")"
      ],
      "metadata": {
        "colab": {
          "base_uri": "https://localhost:8080/"
        },
        "id": "xBPjJte9C_dN",
        "outputId": "615e2f37-ff91-44f8-a47c-ef4865fd5a87"
      },
      "execution_count": null,
      "outputs": [
        {
          "output_type": "stream",
          "name": "stdout",
          "text": [
            "The element 1 occurs 3 times in the tuple.\n"
          ]
        }
      ]
    },
    {
      "cell_type": "markdown",
      "source": [
        "#Q30. Develop a code that prompts the user to input two sets of strings. then, print the symmetric different of these two sets."
      ],
      "metadata": {
        "id": "x65v2XPDDL_Y"
      }
    },
    {
      "cell_type": "code",
      "source": [
        "def get_set_from_input(prompt):\n",
        "    # Prompt the user and split the input by commas\n",
        "    return set(input(prompt).split(','))\n",
        "\n",
        "# Get input from the user\n",
        "set1 = get_set_from_input(\"Enter the first set of strings (comma-separated): \")\n",
        "set2 = get_set_from_input(\"Enter the second set of strings (comma-separated): \")\n",
        "\n",
        "# Find the symmetric difference of the two sets\n",
        "symmetric_difference = set1 ^ set2\n",
        "\n",
        "# Print the result\n",
        "print(\"Symmetric Difference of the two sets:\", symmetric_difference)"
      ],
      "metadata": {
        "colab": {
          "base_uri": "https://localhost:8080/"
        },
        "id": "syXhKfqsFmcV",
        "outputId": "85559acb-a617-4637-96f2-1bc1ac4d3024"
      },
      "execution_count": null,
      "outputs": [
        {
          "output_type": "stream",
          "name": "stdout",
          "text": [
            "Enter the first set of strings (comma-separated): apple,banana,orange\n",
            "Enter the second set of strings (comma-separated): banana,grape,orange\n",
            "Symmetric Difference of the two sets: {'grape', 'apple'}\n"
          ]
        }
      ]
    },
    {
      "cell_type": "markdown",
      "source": [
        "#Q31.Write a code that takes a list of words as input and returns a dictionary where the keys are unique words and the values are the frequencies of those words in the input list."
      ],
      "metadata": {
        "id": "v-n-TNo_F7q2"
      }
    },
    {
      "cell_type": "code",
      "source": [
        "def word_frequency(words):\n",
        "  word_count = {}\n",
        "  for word in words:\n",
        "    word_count[word] = word_count.get(word, 0) + 1\n",
        "  return word_count\n",
        "\n",
        "# Example usage:\n",
        "word_list = [\"apple\", \"banana\", \"apple\", \"orange\", \"banana\", \"apple\"]\n",
        "word_freq = word_frequency(word_list)\n",
        "print(word_freq)"
      ],
      "metadata": {
        "colab": {
          "base_uri": "https://localhost:8080/"
        },
        "id": "qJZqRPamHAv4",
        "outputId": "45997e7a-ae76-4748-fbe1-e69015df8b7c"
      },
      "execution_count": null,
      "outputs": [
        {
          "output_type": "stream",
          "name": "stdout",
          "text": [
            "{'apple': 3, 'banana': 2, 'orange': 1}\n"
          ]
        }
      ]
    },
    {
      "cell_type": "markdown",
      "source": [
        "#Q32.Write a code that takes two dictionaries as input and merges them into a single dictionary. if there are common keys, the values should be added together."
      ],
      "metadata": {
        "id": "svKw5ObpHUEU"
      }
    },
    {
      "cell_type": "code",
      "source": [
        "def merge_dictionaries(dict1, dict2):\n",
        "    merged_dict = dict1.copy()  # Start with a copy of the first dictionary\n",
        "    for key, value in dict2.items():\n",
        "        if key in merged_dict:\n",
        "            merged_dict[key] += value  # Add the values for common keys\n",
        "        else:\n",
        "            merged_dict[key] = value  # Add new keys from the second dictionary\n",
        "    return merged_dict\n",
        "\n",
        "# Example usage\n",
        "dict1 = {'a': 10, 'b': 20, 'c': 30}\n",
        "dict2 = {'b': 15, 'c': 25, 'd': 35}\n",
        "result = merge_dictionaries(dict1, dict2)\n",
        "print(\"Merged Dictionary:\", result)\n"
      ],
      "metadata": {
        "colab": {
          "base_uri": "https://localhost:8080/"
        },
        "id": "xy_xJjLnu0cG",
        "outputId": "60c87236-9f5d-4bb5-be7d-d5f32cbdc7bd"
      },
      "execution_count": null,
      "outputs": [
        {
          "output_type": "stream",
          "name": "stdout",
          "text": [
            "Merged Dictionary: {'a': 10, 'b': 35, 'c': 55, 'd': 35}\n"
          ]
        }
      ]
    },
    {
      "cell_type": "markdown",
      "source": [
        "#Q33.Write a code to access a value in a nested dictionary. the function should take the dictionary and a list of keys as input, and return the corresponding value. if any of the keys do not exist in the dictionary, the function should return none."
      ],
      "metadata": {
        "id": "2a4kZ0X1ulgh"
      }
    },
    {
      "cell_type": "code",
      "source": [
        "def get_nested_value(dictionary, keys):\n",
        "  current_dict = dictionary\n",
        "  for key in keys:\n",
        "    if key not in current_dict:\n",
        "      return None\n",
        "    current_dict = current_dict[key]\n",
        "  return current_dict\n",
        "\n",
        "# Example usage:\n",
        "nested_dict = {\n",
        "    \"a\": {\n",
        "        \"b\": {\n",
        "            \"c\": 10\n",
        "        }\n",
        "    }\n",
        "}\n",
        "\n",
        "keys = [\"a\", \"b\", \"c\"]\n",
        "value = get_nested_value(nested_dict, keys)\n",
        "print(value)"
      ],
      "metadata": {
        "colab": {
          "base_uri": "https://localhost:8080/"
        },
        "id": "Zc8ZsgtZwanX",
        "outputId": "e8f5d060-4a87-443f-d01e-dcfd7fce4303"
      },
      "execution_count": null,
      "outputs": [
        {
          "output_type": "stream",
          "name": "stdout",
          "text": [
            "10\n"
          ]
        }
      ]
    },
    {
      "cell_type": "markdown",
      "source": [
        "#Q34.Write a code that takes a dictionary as input and returns a sorted version of it based on the values. you can choose whether to sort in ascending order."
      ],
      "metadata": {
        "id": "bFDbzVi_wfrh"
      }
    },
    {
      "cell_type": "code",
      "source": [
        "def sort_dict_by_values(dictionary):\n",
        "  sorted_items = sorted(dictionary.items(), key=lambda x: x[1])\n",
        "  return sorted_items\n",
        "\n",
        "# Example usage:\n",
        "my_dict = {'a': 3, 'b': 1, 'c': 2, 'd': 3}\n",
        "sorted_items = sort_dict_by_values(my_dict)\n",
        "print(sorted_items)"
      ],
      "metadata": {
        "colab": {
          "base_uri": "https://localhost:8080/"
        },
        "id": "fgkkqSV5xe2f",
        "outputId": "563eac72-c536-4626-d1fa-c7d6e2c2a980"
      },
      "execution_count": null,
      "outputs": [
        {
          "output_type": "stream",
          "name": "stdout",
          "text": [
            "[('b', 1), ('c', 2), ('a', 3), ('d', 3)]\n"
          ]
        }
      ]
    },
    {
      "cell_type": "markdown",
      "source": [
        "#Q35.Write a code that inverts a dictionary, swapping keys and values. ensure that the inverted dictionary correctly handles cases where multiple keys have the same value by storing the keys as a list in the inverted dictionary."
      ],
      "metadata": {
        "id": "i1Y4k1G1xmZr"
      }
    },
    {
      "cell_type": "code",
      "source": [
        "def invert_dictionary(dictionary):\n",
        "  inverted_dict = {}\n",
        "  for key, value in dictionary.items():\n",
        "    if value not in inverted_dict:\n",
        "      inverted_dict[value] = [key]\n",
        "    else:\n",
        "      inverted_dict[value].append(key)\n",
        "  return inverted_dict\n",
        "\n",
        "# Example usage:\n",
        "original_dict = {'a': 1, 'b': 2, 'c': 1, 'd': 3}\n",
        "inverted_dict = invert_dictionary(original_dict)\n",
        "print(inverted_dict)"
      ],
      "metadata": {
        "colab": {
          "base_uri": "https://localhost:8080/"
        },
        "id": "2ZeHW67oyjP8",
        "outputId": "be2746d9-5cdd-42b3-9162-c0464100315d"
      },
      "execution_count": null,
      "outputs": [
        {
          "output_type": "stream",
          "name": "stdout",
          "text": [
            "{1: ['a', 'c'], 2: ['b'], 3: ['d']}\n"
          ]
        }
      ]
    }
  ]
}